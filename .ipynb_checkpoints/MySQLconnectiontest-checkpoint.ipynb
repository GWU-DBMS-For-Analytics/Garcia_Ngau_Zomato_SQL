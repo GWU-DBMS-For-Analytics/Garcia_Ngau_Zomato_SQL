{
 "cells": [
  {
   "cell_type": "markdown",
   "id": "manual-olive",
   "metadata": {},
   "source": [
    "## MySQL \n",
    "In this notebook, we created a ZomatoDB database, designed to store restaurants information, evaluations, and ratings.\n",
    "This data was collected from Zomato API. Exploratory_Data_Analysis.ipynb contains basic exploratory data analaysis of this dataset.\n",
    "Our approach consists on creating different relational tables using MySQL Workbench and PyMySQL. Then, we populated these tables and run analysis to test the database functionality. "
   ]
  },
  {
   "cell_type": "markdown",
   "id": "close-administration",
   "metadata": {},
   "source": [
    "### Database creation:\n",
    "We locally host a MySQL database. "
   ]
  },
  {
   "cell_type": "code",
   "execution_count": 31,
   "id": "choice-manitoba",
   "metadata": {},
   "outputs": [
    {
     "name": "stdout",
     "output_type": "stream",
     "text": [
      "<pymysql.connections.Connection object at 0x7fd4b1925940>\n"
     ]
    }
   ],
   "source": [
    "import pymysql\n",
    "import pymysql.cursors\n",
    "from itertools import chain\n",
    "\n",
    "# Connect to the database that we ran in our localhost\n",
    "connection = pymysql.connect(host='localhost',\n",
    "                             user='root',\n",
    "                             password='34006503'\n",
    "                            )\n",
    "\n",
    "#From our connection we need a cursor, which acts as our interface into the database\n",
    "cur = connection.cursor()\n",
    "# We can verity we are connected:\n",
    "print(connection)"
   ]
  },
  {
   "cell_type": "code",
   "execution_count": 29,
   "id": "coral-tours",
   "metadata": {},
   "outputs": [
    {
     "data": {
      "text/plain": [
       "1"
      ]
     },
     "execution_count": 29,
     "metadata": {},
     "output_type": "execute_result"
    }
   ],
   "source": [
    "# Create ZomatoDB database:\n",
    "cur.execute(\"CREATE DATABASE ZomatoDB\")"
   ]
  },
  {
   "cell_type": "code",
   "execution_count": 2,
   "id": "small-utility",
   "metadata": {},
   "outputs": [
    {
     "name": "stdout",
     "output_type": "stream",
     "text": [
      "('information_schema',)\n",
      "('mysql',)\n",
      "('performance_schema',)\n",
      "('sys',)\n",
      "('testdb',)\n",
      "('ZomatoDB',)\n"
     ]
    }
   ],
   "source": [
    "# Verify that the database was created\n",
    "cur.execute('SHOW DATABASES')\n",
    "for db in cur:\n",
    "    print(db)"
   ]
  },
  {
   "cell_type": "code",
   "execution_count": 32,
   "id": "noticed-steel",
   "metadata": {},
   "outputs": [],
   "source": [
    "# Then we specify a connection to the ZomatoDB database:\n",
    "connection = pymysql.connect(host='localhost',\n",
    "                             user='root',\n",
    "                             password='34006503',\n",
    "                            database='ZomatoDB')\n",
    "\n",
    "#From our connection we need a cursor, which acts as our interface into the database\n",
    "cur = connection.cursor()"
   ]
  },
  {
   "cell_type": "code",
   "execution_count": 55,
   "id": "outdoor-greene",
   "metadata": {},
   "outputs": [],
   "source": [
    "cur.execute(\"DROP TABLES country_code, cuisines, evaluation, locality, main_table, ratings\")\n",
    "connection.commit()"
   ]
  },
  {
   "cell_type": "markdown",
   "id": "rising-hampton",
   "metadata": {},
   "source": [
    "### Tables creation:"
   ]
  },
  {
   "cell_type": "code",
   "execution_count": 56,
   "id": "scientific-contents",
   "metadata": {},
   "outputs": [],
   "source": [
    "# Create main table that store information about a restaurant's name, id, and location:\n",
    "cur.execute(\"DROP TABLE IF EXISTS main_table;\")\n",
    "connection.commit()\n",
    "\n",
    "create_main_table = \"\"\"CREATE TABLE main_table(\n",
    "                        Restaurant_ID INT NOT NULL,\n",
    "                        Restaurant_Name VARCHAR(255),\n",
    "                        Country_Code INT,\n",
    "                        City VARCHAR(255),\n",
    "                        Address VARCHAR(255),\n",
    "                        Locality VARCHAR(255),\n",
    "                        Longitude DOUBLE,\n",
    "                        Latitude DOUBLE,\n",
    "                        PRIMARY KEY (Restaurant_ID));\"\"\"\n",
    "                            \n",
    "cur.execute(create_main_table)\n",
    "connection.commit()"
   ]
  },
  {
   "cell_type": "code",
   "execution_count": 57,
   "id": "looking-oregon",
   "metadata": {},
   "outputs": [],
   "source": [
    "## Cuisine table consists of the different types of cuisines that you can find in each restaurant:\n",
    "cur.execute(\"DROP TABLE IF EXISTS cuisines\")\n",
    "connection.commit()\n",
    "\n",
    "create_cuisines_table = \"\"\"CREATE TABLE cuisines(\n",
    "                            Restaurant_ID INT,\n",
    "                            Cuisine_type VARCHAR(255),\n",
    "                            KEY (Restaurant_ID));\"\"\"\n",
    "\n",
    "cur.execute(create_cuisines_table)\n",
    "connection.commit()"
   ]
  },
  {
   "cell_type": "code",
   "execution_count": 58,
   "id": "ranging-architect",
   "metadata": {},
   "outputs": [],
   "source": [
    "## Country_codes table is an additional table that we created to make the country_code column useful:\n",
    "cur.execute(\"DROP TABLE IF EXISTS country_code\")\n",
    "connection.commit()\n",
    "\n",
    "create_countrycode_table = \"\"\"CREATE TABLE country_code(\n",
    "                            country_code INT,\n",
    "                            Country VARCHAR(255),\n",
    "                            PRIMARY KEY (country_code));\"\"\"\n",
    "\n",
    "cur.execute(create_countrycode_table)\n",
    "connection.commit()"
   ]
  },
  {
   "cell_type": "code",
   "execution_count": 59,
   "id": "great-lemon",
   "metadata": {},
   "outputs": [],
   "source": [
    "# Evaluation table store the results of restaurants evaluations, which consisted on yes/no cuestions\n",
    "# regarding certain characteristics:\n",
    "cur.execute(\"DROP TABLE IF EXISTS evaluation;\")\n",
    "connection.commit()\n",
    "\n",
    "create_evaluation_table = \"\"\"CREATE TABLE evaluation(\n",
    "                                Restaurant_ID INT,\n",
    "                                Table_booking BOOL,\n",
    "                                Online_delivery BOOL,\n",
    "                                Now_delivering BOOL,\n",
    "                                Switch_menu BOOL,\n",
    "                                Price_range INT,\n",
    "                                KEY (Restaurant_ID)\n",
    "                                );\"\"\"\n",
    "cur.execute(create_evaluation_table)\n",
    "connection.commit()"
   ]
  },
  {
   "cell_type": "code",
   "execution_count": 60,
   "id": "certain-relay",
   "metadata": {},
   "outputs": [],
   "source": [
    "# ratings table store the results of the restaurants ratings:\n",
    "cur.execute(\"DROP TABLE IF EXISTS ratings;\")\n",
    "connection.commit()\n",
    "\n",
    "create_rating_table = \"\"\"CREATE TABLE ratings(\n",
    "                            Restaurant_ID INT,\n",
    "                            Rating FLOAT, \n",
    "                            Rating_color VARCHAR(255),\n",
    "                            Rating_text VARCHAR(255),\n",
    "                            Votes VARCHAR(255),\n",
    "                            KEY (Restaurant_ID));\"\"\"\n",
    "\n",
    "cur.execute(create_rating_table)\n",
    "connection.commit()"
   ]
  },
  {
   "cell_type": "code",
   "execution_count": 61,
   "id": "registered-focus",
   "metadata": {},
   "outputs": [],
   "source": [
    "cur.execute(\"DROP TABLE IF EXISTS locality;\")\n",
    "connection.commit()\n",
    "\n",
    "create_locality_table = \"\"\"CREATE TABLE locality(\n",
    "                            Restaurant_ID INT,\n",
    "                            Locality VARCHAR(255),\n",
    "                            KEY (Restaurant_ID));\n",
    "                            \"\"\"\n",
    "\n",
    "cur.execute(create_locality_table)\n",
    "connection.commit()\n"
   ]
  },
  {
   "cell_type": "code",
   "execution_count": 62,
   "id": "impaired-clothing",
   "metadata": {},
   "outputs": [
    {
     "name": "stdout",
     "output_type": "stream",
     "text": [
      "('country_code',)\n",
      "('cuisines',)\n",
      "('evaluation',)\n",
      "('locality',)\n",
      "('main_table',)\n",
      "('ratings',)\n"
     ]
    }
   ],
   "source": [
    "# Verify that tables were created:\n",
    "cur.execute('SHOW TABLES')\n",
    "for tb in cur:\n",
    "    print(tb)"
   ]
  },
  {
   "cell_type": "markdown",
   "id": "creative-calculator",
   "metadata": {},
   "source": [
    "### Migration of data:"
   ]
  },
  {
   "cell_type": "code",
   "execution_count": 37,
   "id": "adult-rabbit",
   "metadata": {},
   "outputs": [],
   "source": [
    "# First we imported the dataset that came in .csv format:\n",
    "import pandas as pd\n",
    "import numpy as np\n",
    "\n",
    "zomato_df = pd.read_csv('zomato.csv', encoding='latin1')\n",
    "zomato_df.head(3)\n",
    "\n",
    "# We also imported a dataset that help us to map the original Country code\n",
    "# to its name:\n",
    "code_df = pd.read_excel('Country-Code.xlsx')"
   ]
  },
  {
   "cell_type": "code",
   "execution_count": 51,
   "id": "elementary-childhood",
   "metadata": {},
   "outputs": [],
   "source": [
    "# We drop NaN values, edited the yes/no evaluation columns to booleans, and\n",
    "# partitioned the dataset into simplier dataframes tha will help us to populate\n",
    "\n",
    "# the different tables in the database:\n",
    "zomato_df.dropna(inplace=True)\n",
    "\n",
    "# Yes/No to boolean:\n",
    "d = {'Yes': True, 'No':False}\n",
    "zomato_df['Has Table booking'] = zomato_df['Has Table booking'].map(d)\n",
    "zomato_df['Has Online delivery'] = zomato_df['Has Online delivery'].map(d)\n",
    "zomato_df['Is delivering now'] = zomato_df['Is delivering now'].map(d)\n",
    "zomato_df['Switch to order menu'] = zomato_df['Switch to order menu'].map(d)\n",
    "\n",
    "# We also need to transform the column Restaurant ID to integer type:\n",
    "zomato_df['Restaurant ID'] = zomato_df['Restaurant ID'].astype(int)\n",
    "\n",
    "# main_table data:\n",
    "main_table_df = zomato_df[[\n",
    "    'Restaurant ID', \n",
    "    'Restaurant Name', \n",
    "    'Country Code', \n",
    "    'City', 'Address', 'Locality', \n",
    "    'Longitude', 'Latitude']]\n",
    "\n",
    "# evaluation table data:\n",
    "evaluation_df = zomato_df[[\n",
    "    'Restaurant ID',\n",
    "    'Has Table booking',\n",
    "    'Has Online delivery',\n",
    "    'Is delivering now',\n",
    "    'Switch to order menu',\n",
    "    'Price range']]\n",
    "# ratings table data:\n",
    "ratings_df = zomato_df[[\n",
    "    'Restaurant ID',\n",
    "    'Aggregate rating',\n",
    "    'Rating color',\n",
    "    'Rating text',\n",
    "    'Votes']]\n"
   ]
  },
  {
   "cell_type": "code",
   "execution_count": 39,
   "id": "recreational-converter",
   "metadata": {},
   "outputs": [
    {
     "data": {
      "text/html": [
       "<div>\n",
       "<style scoped>\n",
       "    .dataframe tbody tr th:only-of-type {\n",
       "        vertical-align: middle;\n",
       "    }\n",
       "\n",
       "    .dataframe tbody tr th {\n",
       "        vertical-align: top;\n",
       "    }\n",
       "\n",
       "    .dataframe thead th {\n",
       "        text-align: right;\n",
       "    }\n",
       "</style>\n",
       "<table border=\"1\" class=\"dataframe\">\n",
       "  <thead>\n",
       "    <tr style=\"text-align: right;\">\n",
       "      <th></th>\n",
       "      <th>Restaurant ID</th>\n",
       "      <th>Cuisines</th>\n",
       "    </tr>\n",
       "  </thead>\n",
       "  <tbody>\n",
       "    <tr>\n",
       "      <th>0</th>\n",
       "      <td>6317637</td>\n",
       "      <td>French</td>\n",
       "    </tr>\n",
       "    <tr>\n",
       "      <th>0</th>\n",
       "      <td>6317637</td>\n",
       "      <td>Japanese</td>\n",
       "    </tr>\n",
       "    <tr>\n",
       "      <th>0</th>\n",
       "      <td>6317637</td>\n",
       "      <td>Desserts</td>\n",
       "    </tr>\n",
       "  </tbody>\n",
       "</table>\n",
       "</div>"
      ],
      "text/plain": [
       "   Restaurant ID  Cuisines\n",
       "0        6317637    French\n",
       "0        6317637  Japanese\n",
       "0        6317637  Desserts"
      ]
     },
     "execution_count": 39,
     "metadata": {},
     "output_type": "execute_result"
    }
   ],
   "source": [
    "# We saw in the Exploratory Data analysis notebook that cuisines column\n",
    "# has nested lists of the different cuisine types. We dissagregate those lists\n",
    "# and stored them in new rows:\n",
    "# return list from series of comma-separated strings\n",
    "def chainer(s):\n",
    "  return list(chain.from_iterable(s.str.split(',')))\n",
    "\n",
    "# calculate lengths of splits\n",
    "lens = zomato_df['Cuisines'].str.split(',').map(len)\n",
    "\n",
    "# create new dataframe, reapeting or chaining as appropiate\n",
    "res = pd.DataFrame({\n",
    "    'Restaurant ID': np.repeat(zomato_df['Restaurant ID'], lens),\n",
    "    'Cuisines':chainer(zomato_df['Cuisines'])\n",
    "})\n",
    "\n",
    "res_cuisine = res.apply(lambda x: x.str.strip() if x.dtype == \"object\" else x)\n",
    "res_cuisine.head(3)"
   ]
  },
  {
   "cell_type": "code",
   "execution_count": 40,
   "id": "industrial-pointer",
   "metadata": {},
   "outputs": [
    {
     "data": {
      "text/html": [
       "<div>\n",
       "<style scoped>\n",
       "    .dataframe tbody tr th:only-of-type {\n",
       "        vertical-align: middle;\n",
       "    }\n",
       "\n",
       "    .dataframe tbody tr th {\n",
       "        vertical-align: top;\n",
       "    }\n",
       "\n",
       "    .dataframe thead th {\n",
       "        text-align: right;\n",
       "    }\n",
       "</style>\n",
       "<table border=\"1\" class=\"dataframe\">\n",
       "  <thead>\n",
       "    <tr style=\"text-align: right;\">\n",
       "      <th></th>\n",
       "      <th>Restaurant ID</th>\n",
       "      <th>Locality</th>\n",
       "    </tr>\n",
       "  </thead>\n",
       "  <tbody>\n",
       "    <tr>\n",
       "      <th>0</th>\n",
       "      <td>6317637</td>\n",
       "      <td>Century City Mall</td>\n",
       "    </tr>\n",
       "    <tr>\n",
       "      <th>0</th>\n",
       "      <td>6317637</td>\n",
       "      <td>Poblacion</td>\n",
       "    </tr>\n",
       "    <tr>\n",
       "      <th>0</th>\n",
       "      <td>6317637</td>\n",
       "      <td>Makati City</td>\n",
       "    </tr>\n",
       "  </tbody>\n",
       "</table>\n",
       "</div>"
      ],
      "text/plain": [
       "   Restaurant ID           Locality\n",
       "0        6317637  Century City Mall\n",
       "0        6317637          Poblacion\n",
       "0        6317637        Makati City"
      ]
     },
     "execution_count": 40,
     "metadata": {},
     "output_type": "execute_result"
    }
   ],
   "source": [
    "# Likewise, we saw that Locality column contains nested list of the localities\n",
    "# of each restaurants. Therefore, we dissagregated those cells into new columns:\n",
    "# calculate lengths of splits\n",
    "lens_locality = zomato_df['Locality'].str.split(',').map(len)\n",
    "\n",
    "# create new dataframe, reapeting or chaining as appropiate\n",
    "res_first = pd.DataFrame({\n",
    "    'Restaurant ID': np.repeat(zomato_df['Restaurant ID'], lens_locality),\n",
    "    'Locality':chainer(zomato_df['Locality'])\n",
    "})\n",
    "\n",
    "res_locality = res_first.apply(lambda x: x.str.strip() if x.dtype == \"object\" else x)\n",
    "res_locality.head(3)"
   ]
  },
  {
   "cell_type": "markdown",
   "id": "future-effectiveness",
   "metadata": {},
   "source": [
    "We have now partitioned the original dataset into:\n",
    "- main_table_df -> basic information of restaurants like name, id, location.\n",
    "- evaluation_df -> evaluation yes/no questions, transformed to booleans.\n",
    "- ratings_df -> rating of each restaurant.\n",
    "- code_df -> countries code.\n",
    "- res_cuisine -> different types of restaurants cuisines\n",
    "\n",
    "To migrate the data we transformed our dataframes into tuples, and then \n",
    "inserted these tuples into their respective MySQL tables:"
   ]
  },
  {
   "cell_type": "code",
   "execution_count": 52,
   "id": "subject-collective",
   "metadata": {},
   "outputs": [],
   "source": [
    "# transform the different dataframes to tuples:\n",
    "main_tuples = [tuple(x) for x in main_table_df.to_numpy()]\n",
    "evaluation_tuples = [tuple(x) for x in evaluation_df.to_numpy()]\n",
    "rating_tuples = [tuple(x) for x in ratings_df.to_numpy()]\n",
    "cuisine_tuples = [tuple(x) for x in res_cuisine.to_numpy()]\n",
    "locality_tuples = [tuple(x) for x in res_locality.to_numpy()]\n",
    "country_code_tuples = [tuple(x) for x in code_df.to_numpy()]\n",
    "\n"
   ]
  },
  {
   "cell_type": "code",
   "execution_count": 53,
   "id": "grave-algeria",
   "metadata": {},
   "outputs": [],
   "source": [
    "# Then we created sql formulas to be executed in our cursor:\n",
    "main_sql = \"\"\"INSERT INTO main_table \n",
    "                    (\n",
    "                    Restaurant_ID,\n",
    "                    Restaurant_Name,\n",
    "                    Country_Code,\n",
    "                    City,\n",
    "                    Address,\n",
    "                    Locality,\n",
    "                    Longitude,\n",
    "                    Latitude) \n",
    "                    VALUES (%s, %s, %s, %s, %s, %s, %s, %s);\"\"\" #%s placeholders\n",
    "\n",
    "evaluation_sql = \"\"\"INSERT INTO evaluation \n",
    "                    (\n",
    "                    Restaurant_ID,\n",
    "                    Table_booking,\n",
    "                    Online_delivery,\n",
    "                    Now_delivering,\n",
    "                    Switch_men,\n",
    "                    Price_range) \n",
    "                    VALUES(%s, %s, %s, %s, %s, %s);\"\"\"\n",
    "\n",
    "rating_sql = \"\"\"INSERT INTO ratings \n",
    "                    (\n",
    "                    Restaurant_ID,\n",
    "                    Rating,\n",
    "                    Rating_color,\n",
    "                    Rating_text,\n",
    "                    Votes) \n",
    "                    VALUES(%s, %s, %s, %s, %s);\"\"\"\n",
    "\n",
    "cuisine_sql = \"\"\"INSERT INTO cuisines\n",
    "                    (\n",
    "                    Restaurant_ID,\n",
    "                    Cuisine_type) \n",
    "                    VALUES (%s, %s);\"\"\"\n",
    "\n",
    "locality_sql = \"\"\"INSERT INTO locality\n",
    "                    (\n",
    "                    Restaurant_ID,\n",
    "                    Locality) \n",
    "                    VALUES (%s, %s);\"\"\"\n",
    "\n",
    "country_code_sql = \"\"\"INSERT INTO country_code\n",
    "                    (\n",
    "                    country_code,\n",
    "                    Country) \n",
    "                    VALUES (%s, %s);\"\"\"\n",
    "\n"
   ]
  },
  {
   "cell_type": "code",
   "execution_count": 63,
   "id": "another-weekly",
   "metadata": {},
   "outputs": [],
   "source": [
    "# Execute all above:\n",
    "cur.executemany(main_sql, main_tuples)\n",
    "connection.commit()\n",
    "\n",
    "cur.executemany(evaluation_sql, evaluation_tuples)\n",
    "connection.commit()\n",
    "\n",
    "cur.executemany(rating_sql, rating_tuples)\n",
    "connection.commit()\n",
    "\n",
    "cur.executemany(cuisine_sql, cuisine_tuples)\n",
    "connection.commit()\n",
    "\n",
    "cur.executemany(locality_sql, locality_tuples)\n",
    "connection.commit()\n",
    "\n",
    "cur.executemany(country_code_sql, country_code_tuples)\n",
    "connection.commit()"
   ]
  },
  {
   "cell_type": "code",
   "execution_count": 140,
   "id": "convenient-strength",
   "metadata": {},
   "outputs": [],
   "source": [
    "# Migrate data to the restaurants table so we can create primary keys on the Restauran Id column\n",
    "insert_into_restaurants = \"\"\"INSERT INTO restaurants\n",
    "                                SELECT DISTINCT \n",
    "                                    Restaurant_ID,\n",
    "                                    Restaurant_Name,\n",
    "                                    Country_Code,\n",
    "                                    City,\n",
    "                                    Address,\n",
    "                                    Locality,\n",
    "                                    Longitude,\n",
    "                                    Latitude\n",
    "                                FROM main_table;\"\"\"\n",
    "cur.execute(insert_into_restaurants)\n",
    "connection.commit()"
   ]
  },
  {
   "cell_type": "code",
   "execution_count": 141,
   "id": "plastic-outside",
   "metadata": {},
   "outputs": [],
   "source": [
    "# Migrate data to evaluation table from main_table:\n",
    "insert_into_evaluation = \"\"\"INSERT INTO evaluation\n",
    "                                SELECT DISTINCT\n",
    "                                    Restaurant_ID,\n",
    "                                    Table_booking,\n",
    "                                    Online_delivery,\n",
    "                                    Now_delivering,\n",
    "                                    Switch_menu,\n",
    "                                    Price_range\n",
    "                                FROM main_table;\"\"\"\n",
    "cur.execute(insert_into_evaluation)\n",
    "connection.commit()\n",
    "\n"
   ]
  },
  {
   "cell_type": "code",
   "execution_count": 142,
   "id": "heavy-polyester",
   "metadata": {},
   "outputs": [],
   "source": [
    "# Migrate data to ratings table from main_table:\n",
    "insert_into_ratings = \"\"\"INSERT INTO ratings\n",
    "                                SELECT DISTINCT \n",
    "                                    Restaurant_ID,\n",
    "                                    Rating,\n",
    "                                    Rating_color,\n",
    "                                    Rating_text,\n",
    "                                    Votes\n",
    "                                FROM main_table;\"\"\"\n",
    "cur.execute(insert_into_ratings)\n",
    "connection.commit()"
   ]
  },
  {
   "cell_type": "code",
   "execution_count": null,
   "id": "existing-naples",
   "metadata": {},
   "outputs": [],
   "source": []
  }
 ],
 "metadata": {
  "kernelspec": {
   "display_name": "Python 3",
   "language": "python",
   "name": "python3"
  },
  "language_info": {
   "codemirror_mode": {
    "name": "ipython",
    "version": 3
   },
   "file_extension": ".py",
   "mimetype": "text/x-python",
   "name": "python",
   "nbconvert_exporter": "python",
   "pygments_lexer": "ipython3",
   "version": "3.8.5"
  }
 },
 "nbformat": 4,
 "nbformat_minor": 5
}
