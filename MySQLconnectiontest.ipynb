{
 "cells": [
  {
   "cell_type": "markdown",
   "id": "rental-envelope",
   "metadata": {},
   "source": [
    "## MySQL \n",
    "In this notebook, we created a connection to our database (ZomatoDB), and also created and populated the different tables.\n",
    "This database is designed to store information about the restaurants like location, cuisine types, ratings, and the evaluation.\n",
    "First, we created a \"main_table\" to store all the data that we cleaned in the Exploratory_Data_Analysis notebook.\n",
    "Second, we created \"restaurants\", \"cuisines\", \"location\", \"evaluation\", and \"ratings\" tables.\n",
    "Third, we migrated the original dataset \"cleaned_zomato.csv\" to \"main_table\"\n",
    "Finally, we populated our tables from the data in \"main_table\", and added constraints about primary keys, and foreign keys."
   ]
  },
  {
   "cell_type": "code",
   "execution_count": 5,
   "id": "consistent-edward",
   "metadata": {},
   "outputs": [],
   "source": [
    "import pymysql"
   ]
  },
  {
   "cell_type": "code",
   "execution_count": 2,
   "id": "personal-passion",
   "metadata": {},
   "outputs": [],
   "source": [
    "import pymysql.cursors\n",
    "# Connect to the database that we ran in our localhost\n",
    "connection = pymysql.connect(host='localhost',\n",
    "                             user='root',\n",
    "                             password='34006503'\n",
    "                            )\n",
    "\n",
    "#From our connection we need a cursor, which acts as our interface into the database\n",
    "cur = connection.cursor()"
   ]
  },
  {
   "cell_type": "code",
   "execution_count": 3,
   "id": "advance-huntington",
   "metadata": {},
   "outputs": [
    {
     "name": "stdout",
     "output_type": "stream",
     "text": [
      "<pymysql.connections.Connection object at 0x7fad6553bb20>\n"
     ]
    }
   ],
   "source": [
    "# We can verity we are connected:\n",
    "print(connection)"
   ]
  },
  {
   "cell_type": "code",
   "execution_count": 29,
   "id": "proved-granny",
   "metadata": {},
   "outputs": [
    {
     "data": {
      "text/plain": [
       "1"
      ]
     },
     "execution_count": 29,
     "metadata": {},
     "output_type": "execute_result"
    }
   ],
   "source": [
    "# Create our database callde zomatoDB:\n",
    "\n",
    "cur.execute(\"CREATE DATABASE ZomatoDB\")"
   ]
  },
  {
   "cell_type": "code",
   "execution_count": 4,
   "id": "governing-skating",
   "metadata": {},
   "outputs": [
    {
     "name": "stdout",
     "output_type": "stream",
     "text": [
      "('information_schema',)\n",
      "('mysql',)\n",
      "('performance_schema',)\n",
      "('sys',)\n",
      "('testdb',)\n",
      "('ZomatoDB',)\n"
     ]
    }
   ],
   "source": [
    "# Verify that the database was created\n",
    "cur.execute('SHOW DATABASES')\n",
    "for db in cur:\n",
    "    print(db)"
   ]
  },
  {
   "cell_type": "code",
   "execution_count": 6,
   "id": "metric-harvest",
   "metadata": {},
   "outputs": [],
   "source": [
    "# Then we specify a connection to the ZomatoDBdatabase\n",
    "connection = pymysql.connect(host='localhost',\n",
    "                             user='root',\n",
    "                             password='34006503',\n",
    "                            database='ZomatoDB')\n",
    "\n",
    "#From our connection we need a cursor, which acts as our interface into the database\n",
    "cur = connection.cursor()"
   ]
  },
  {
   "cell_type": "markdown",
   "id": "sublime-comparison",
   "metadata": {},
   "source": [
    "Tables creation section:"
   ]
  },
  {
   "cell_type": "code",
   "execution_count": 33,
   "id": "direct-dover",
   "metadata": {},
   "outputs": [],
   "source": [
    "# Create main table that contains all dataset\n",
    "# Coordinates will be added separately for the moment\n",
    "cur.execute(\"DROP TABLE IF EXISTS main_table;\")\n",
    "connection.commit()\n",
    "\n",
    "make_main_table = \"\"\"CREATE TABLE main_table(\n",
    "                        Restaurant_ID INT NOT NULL,\n",
    "                        Restaurant_Name VARCHAR(255),\n",
    "                        Country_Code INT,\n",
    "                        City VARCHAR(255),\n",
    "                        Address VARCHAR(255),\n",
    "                        Locality VARCHAR(255),\n",
    "                        Cuisine VARCHAR(255),\n",
    "                        Average_Cost_for_two INT,\n",
    "                        Currency VARCHAR(255),\n",
    "                        Table_booking BOOL,\n",
    "                        Online_delivery BOOL,\n",
    "                        Now_delivering BOOL,\n",
    "                        Switch_menu BOOL,\n",
    "                        Price_range INT,\n",
    "                        Rating FLOAT,\n",
    "                        Rating_color VARCHAR(255),\n",
    "                        Rating_text VARCHAR(255),\n",
    "                        Votes VARCHAR(255),\n",
    "                        Average_cost_USD INT,\n",
    "                        geometry VARCHAR(255));\"\"\"\n",
    "                            \n",
    "cur.execute(make_main_table)\n",
    "connection.commit()"
   ]
  },
  {
   "cell_type": "code",
   "execution_count": 37,
   "id": "acceptable-diameter",
   "metadata": {},
   "outputs": [],
   "source": [
    "cur.execute(\"DROP TABLE IF EXISTS restaurants;\")\n",
    "connection.commit()\n",
    "make_restaurant_table = \"\"\"CREATE TABLE restaurants(\n",
    "                            Restaurant_ID INT,\n",
    "                            Restaurant_Name VARCHAR(255),\n",
    "                            Country_Code INT,\n",
    "                            City VARCHAR(255),\n",
    "                            Address VARCHAR(255),\n",
    "                            Coordinates VARCHAR(255),\n",
    "                            PRIMARY KEY (Restaurant_ID));\"\"\"\n",
    "cur.execute(make_restaurant_table)\n",
    "connection.commit()"
   ]
  },
  {
   "cell_type": "code",
   "execution_count": 35,
   "id": "virtual-finder",
   "metadata": {},
   "outputs": [],
   "source": [
    "## Space for cuisine table"
   ]
  },
  {
   "cell_type": "code",
   "execution_count": null,
   "id": "allied-assurance",
   "metadata": {},
   "outputs": [],
   "source": [
    "## Space for Location table"
   ]
  },
  {
   "cell_type": "code",
   "execution_count": 43,
   "id": "tired-engine",
   "metadata": {},
   "outputs": [],
   "source": [
    "cur.execute(\"DROP TABLE IF EXISTS evaluation;\")\n",
    "connection.commit()\n",
    "make_evaluation_table = \"\"\"CREATE TABLE evaluation(\n",
    "                                Restaurant_ID INT,\n",
    "                                Table_booking BOOL,\n",
    "                                Online_delivery BOOL,\n",
    "                                Now_delivering BOOL,\n",
    "                                Switch_menu BOOL,\n",
    "                                Price_range INT,\n",
    "                                KEY (Restaurant_ID),\n",
    "                                CONSTRAINT id_fk FOREIGN KEY (Restaurant_ID)\n",
    "                                    REFERENCES restaurants (Restaurant_ID) ON DELETE CASCADE\n",
    "                                );\"\"\"\n",
    "cur.execute(make_evaluation_table)\n",
    "connection.commit()\n",
    "\n"
   ]
  },
  {
   "cell_type": "code",
   "execution_count": 44,
   "id": "genetic-communist",
   "metadata": {},
   "outputs": [],
   "source": [
    "cur.execute(\"DROP TABLE IF EXISTS ratings;\")\n",
    "connection.commit()\n",
    "\n",
    "make_rating_table = \"\"\"CREATE TABLE ratings(\n",
    "                            Restaurant_ID INT,\n",
    "                            Rating FLOAT, \n",
    "                            Rating_color VARCHAR(255),\n",
    "                            Rating_text VARCHAR(255),\n",
    "                            Votes VARCHAR(255),\n",
    "                            KEY (Restaurant_ID),\n",
    "                                CONSTRAINT ev_fk FOREIGN KEY (Restaurant_ID)\n",
    "                                    REFERENCES restaurants (Restaurant_ID) ON DELETE CASCADE\n",
    "                            );\"\"\"\n",
    "\n",
    "cur.execute(make_rating_table)\n",
    "connection.commit()"
   ]
  },
  {
   "cell_type": "code",
   "execution_count": 45,
   "id": "superb-backing",
   "metadata": {},
   "outputs": [
    {
     "name": "stdout",
     "output_type": "stream",
     "text": [
      "('evaluation',)\n",
      "('main_table',)\n",
      "('ratings',)\n",
      "('restaurants',)\n"
     ]
    }
   ],
   "source": [
    "# Verify that tables were created:\n",
    "cur.execute('SHOW TABLES')\n",
    "for tb in cur:\n",
    "    print(tb)"
   ]
  },
  {
   "cell_type": "markdown",
   "id": "certified-blood",
   "metadata": {},
   "source": [
    "Data migration section:"
   ]
  },
  {
   "cell_type": "code",
   "execution_count": 20,
   "id": "horizontal-detail",
   "metadata": {},
   "outputs": [],
   "source": [
    "import pandas as pd\n",
    "import numpy as np\n",
    "\n",
    "zomato_dataframe = pd.read_csv('cleaned_zomato.csv')"
   ]
  },
  {
   "cell_type": "code",
   "execution_count": 21,
   "id": "direct-stopping",
   "metadata": {},
   "outputs": [
    {
     "data": {
      "text/html": [
       "<div>\n",
       "<style scoped>\n",
       "    .dataframe tbody tr th:only-of-type {\n",
       "        vertical-align: middle;\n",
       "    }\n",
       "\n",
       "    .dataframe tbody tr th {\n",
       "        vertical-align: top;\n",
       "    }\n",
       "\n",
       "    .dataframe thead th {\n",
       "        text-align: right;\n",
       "    }\n",
       "</style>\n",
       "<table border=\"1\" class=\"dataframe\">\n",
       "  <thead>\n",
       "    <tr style=\"text-align: right;\">\n",
       "      <th></th>\n",
       "      <th>Restaurant ID</th>\n",
       "      <th>Restaurant Name</th>\n",
       "      <th>Country Code</th>\n",
       "      <th>City</th>\n",
       "      <th>Address</th>\n",
       "      <th>Locality</th>\n",
       "      <th>Cuisines</th>\n",
       "      <th>Average Cost for two</th>\n",
       "      <th>Currency</th>\n",
       "      <th>Has Table booking</th>\n",
       "      <th>Has Online delivery</th>\n",
       "      <th>Is delivering now</th>\n",
       "      <th>Switch to order menu</th>\n",
       "      <th>Price range</th>\n",
       "      <th>Aggregate rating</th>\n",
       "      <th>Rating color</th>\n",
       "      <th>Rating text</th>\n",
       "      <th>Votes</th>\n",
       "      <th>Average cost USD</th>\n",
       "      <th>geometry</th>\n",
       "    </tr>\n",
       "  </thead>\n",
       "  <tbody>\n",
       "    <tr>\n",
       "      <th>0</th>\n",
       "      <td>6317637</td>\n",
       "      <td>Le Petit Souffle</td>\n",
       "      <td>162</td>\n",
       "      <td>Makati City</td>\n",
       "      <td>Third Floor, Century City Mall, Kalayaan Avenu...</td>\n",
       "      <td>Century City Mall, Poblacion, Makati City</td>\n",
       "      <td>French</td>\n",
       "      <td>1100</td>\n",
       "      <td>Botswana Pula(P)</td>\n",
       "      <td>Yes</td>\n",
       "      <td>No</td>\n",
       "      <td>No</td>\n",
       "      <td>No</td>\n",
       "      <td>3.0</td>\n",
       "      <td>4.8</td>\n",
       "      <td>Dark Green</td>\n",
       "      <td>Excellent</td>\n",
       "      <td>314.0</td>\n",
       "      <td>100.1</td>\n",
       "      <td>POINT (121.027535 14.565443)</td>\n",
       "    </tr>\n",
       "    <tr>\n",
       "      <th>1</th>\n",
       "      <td>6317637</td>\n",
       "      <td>Le Petit Souffle</td>\n",
       "      <td>162</td>\n",
       "      <td>Makati City</td>\n",
       "      <td>Third Floor, Century City Mall, Kalayaan Avenu...</td>\n",
       "      <td>Century City Mall, Poblacion, Makati City</td>\n",
       "      <td>Japanese</td>\n",
       "      <td>1100</td>\n",
       "      <td>Botswana Pula(P)</td>\n",
       "      <td>Yes</td>\n",
       "      <td>No</td>\n",
       "      <td>No</td>\n",
       "      <td>No</td>\n",
       "      <td>3.0</td>\n",
       "      <td>4.8</td>\n",
       "      <td>Dark Green</td>\n",
       "      <td>Excellent</td>\n",
       "      <td>314.0</td>\n",
       "      <td>100.1</td>\n",
       "      <td>POINT (121.027535 14.565443)</td>\n",
       "    </tr>\n",
       "    <tr>\n",
       "      <th>2</th>\n",
       "      <td>6317637</td>\n",
       "      <td>Le Petit Souffle</td>\n",
       "      <td>162</td>\n",
       "      <td>Makati City</td>\n",
       "      <td>Third Floor, Century City Mall, Kalayaan Avenu...</td>\n",
       "      <td>Century City Mall, Poblacion, Makati City</td>\n",
       "      <td>Desserts</td>\n",
       "      <td>1100</td>\n",
       "      <td>Botswana Pula(P)</td>\n",
       "      <td>Yes</td>\n",
       "      <td>No</td>\n",
       "      <td>No</td>\n",
       "      <td>No</td>\n",
       "      <td>3.0</td>\n",
       "      <td>4.8</td>\n",
       "      <td>Dark Green</td>\n",
       "      <td>Excellent</td>\n",
       "      <td>314.0</td>\n",
       "      <td>100.1</td>\n",
       "      <td>POINT (121.027535 14.565443)</td>\n",
       "    </tr>\n",
       "  </tbody>\n",
       "</table>\n",
       "</div>"
      ],
      "text/plain": [
       "  Restaurant ID   Restaurant Name  Country Code         City  \\\n",
       "0       6317637  Le Petit Souffle           162  Makati City   \n",
       "1       6317637  Le Petit Souffle           162  Makati City   \n",
       "2       6317637  Le Petit Souffle           162  Makati City   \n",
       "\n",
       "                                             Address  \\\n",
       "0  Third Floor, Century City Mall, Kalayaan Avenu...   \n",
       "1  Third Floor, Century City Mall, Kalayaan Avenu...   \n",
       "2  Third Floor, Century City Mall, Kalayaan Avenu...   \n",
       "\n",
       "                                    Locality   Cuisines Average Cost for two  \\\n",
       "0  Century City Mall, Poblacion, Makati City     French                 1100   \n",
       "1  Century City Mall, Poblacion, Makati City   Japanese                 1100   \n",
       "2  Century City Mall, Poblacion, Makati City   Desserts                 1100   \n",
       "\n",
       "           Currency Has Table booking Has Online delivery Is delivering now  \\\n",
       "0  Botswana Pula(P)               Yes                  No                No   \n",
       "1  Botswana Pula(P)               Yes                  No                No   \n",
       "2  Botswana Pula(P)               Yes                  No                No   \n",
       "\n",
       "  Switch to order menu  Price range Aggregate rating Rating color Rating text  \\\n",
       "0                   No          3.0              4.8   Dark Green   Excellent   \n",
       "1                   No          3.0              4.8   Dark Green   Excellent   \n",
       "2                   No          3.0              4.8   Dark Green   Excellent   \n",
       "\n",
       "   Votes  Average cost USD                      geometry  \n",
       "0  314.0             100.1  POINT (121.027535 14.565443)  \n",
       "1  314.0             100.1  POINT (121.027535 14.565443)  \n",
       "2  314.0             100.1  POINT (121.027535 14.565443)  "
      ]
     },
     "execution_count": 21,
     "metadata": {},
     "output_type": "execute_result"
    }
   ],
   "source": [
    "zomato_dataframe.drop('Unnamed: 0', axis=1, inplace=True)\n",
    "zomato_dataframe.head(3)\n"
   ]
  },
  {
   "cell_type": "code",
   "execution_count": 22,
   "id": "smoking-breeding",
   "metadata": {},
   "outputs": [],
   "source": [
    "# We forgot to format table booking, online delivery and switch to order menu as booleans:\n",
    "d = {'Yes': True, 'No':False}\n",
    "zomato_dataframe['Has Table booking'] = zomato_dataframe['Has Table booking'].map(d)\n",
    "zomato_dataframe['Has Online delivery'] = zomato_dataframe['Has Online delivery'].map(d)\n",
    "zomato_dataframe['Is delivering now'] = zomato_dataframe['Is delivering now'].map(d)\n",
    "zomato_dataframe['Switch to order menu'] = zomato_dataframe['Switch to order menu'].map(d)"
   ]
  },
  {
   "cell_type": "code",
   "execution_count": 23,
   "id": "agreed-kitchen",
   "metadata": {},
   "outputs": [
    {
     "name": "stdout",
     "output_type": "stream",
     "text": [
      "Dimensions of our dataframe before drop: (19712, 20)\n",
      "Dimensions of our dataframe after drop: (19708, 20)\n"
     ]
    }
   ],
   "source": [
    "# We also applied dropna to double check that we get rid of all null values:\n",
    "print('Dimensions of our dataframe before drop:',zomato_dataframe.shape)\n",
    "zomato_dataframe.dropna(inplace=True)\n",
    "print('Dimensions of our dataframe after drop:',zomato_dataframe.shape)"
   ]
  },
  {
   "cell_type": "code",
   "execution_count": 24,
   "id": "convertible-upset",
   "metadata": {},
   "outputs": [],
   "source": [
    "# We also need to transform the column Restaurant ID to integer type:\n",
    "zomato_dataframe['Restaurant ID'] = zomato_dataframe['Restaurant ID'].astype(int)"
   ]
  },
  {
   "cell_type": "code",
   "execution_count": 25,
   "id": "quick-religious",
   "metadata": {},
   "outputs": [
    {
     "name": "stdout",
     "output_type": "stream",
     "text": [
      "<class 'pandas.core.frame.DataFrame'>\n",
      "Int64Index: 19708 entries, 0 to 19711\n",
      "Data columns (total 20 columns):\n",
      " #   Column                Non-Null Count  Dtype  \n",
      "---  ------                --------------  -----  \n",
      " 0   Restaurant ID         19708 non-null  int64  \n",
      " 1   Restaurant Name       19708 non-null  object \n",
      " 2   Country Code          19708 non-null  int64  \n",
      " 3   City                  19708 non-null  object \n",
      " 4   Address               19708 non-null  object \n",
      " 5   Locality              19708 non-null  object \n",
      " 6   Cuisines              19708 non-null  object \n",
      " 7   Average Cost for two  19708 non-null  object \n",
      " 8   Currency              19708 non-null  object \n",
      " 9   Has Table booking     19708 non-null  object \n",
      " 10  Has Online delivery   19708 non-null  object \n",
      " 11  Is delivering now     19708 non-null  object \n",
      " 12  Switch to order menu  19708 non-null  object \n",
      " 13  Price range           19708 non-null  float64\n",
      " 14  Aggregate rating      19708 non-null  object \n",
      " 15  Rating color          19708 non-null  object \n",
      " 16  Rating text           19708 non-null  object \n",
      " 17  Votes                 19708 non-null  float64\n",
      " 18  Average cost USD      19708 non-null  float64\n",
      " 19  geometry              19708 non-null  object \n",
      "dtypes: float64(3), int64(2), object(15)\n",
      "memory usage: 3.2+ MB\n"
     ]
    }
   ],
   "source": [
    "# Quick check that our datatypes in the dataframe match with our DB:\n",
    "zomato_dataframe.info()"
   ]
  },
  {
   "cell_type": "code",
   "execution_count": 34,
   "id": "coral-shannon",
   "metadata": {},
   "outputs": [],
   "source": [
    "# To populate \"main_table\" we first added all columns (except geometry) as a tuple:\n",
    "subset = zomato_dataframe[zomato_dataframe.columns]\n",
    "tuples = [tuple(x) for x in subset.to_numpy()]\n",
    "\n",
    "# Then we wrote this generalized formula:\n",
    "sqlFormula = \"\"\"INSERT INTO main_table \n",
    "                    (\n",
    "                    Restaurant_ID,\n",
    "                    Restaurant_Name,\n",
    "                    Country_Code,\n",
    "                    City,\n",
    "                    Address,\n",
    "                    Locality,\n",
    "                    Cuisine,\n",
    "                    Average_Cost_for_two,\n",
    "                    Currency,\n",
    "                    Table_booking,\n",
    "                    Online_delivery,\n",
    "                    Now_delivering,\n",
    "                    Switch_menu,\n",
    "                    Price_range,\n",
    "                    Rating,\n",
    "                    Rating_color,\n",
    "                    Rating_text,\n",
    "                    Votes,\n",
    "                    Average_cost_USD,\n",
    "                    geometry\n",
    "                    ) \n",
    "                    VALUES (\n",
    "                    %s,%s, %s, %s, %s, %s, %s, \n",
    "                    %s, %s, %s, %s, %s, %s, \n",
    "                    %s, %s, %s, %s, %s, %s, %s\n",
    "                    );\"\"\" #%s placeholders\n",
    "\n",
    "# And executed:\n",
    "cur.executemany(sqlFormula, tuples)\n",
    "connection.commit()"
   ]
  },
  {
   "cell_type": "code",
   "execution_count": 38,
   "id": "herbal-morning",
   "metadata": {},
   "outputs": [],
   "source": [
    "# Migrate data to the restaurants table so we can create primary keys on the Restauran Id column\n",
    "insert_into_restaurants = \"\"\"INSERT INTO restaurants\n",
    "                                SELECT DISTINCT \n",
    "                                    Restaurant_ID,\n",
    "                                    Restaurant_Name,\n",
    "                                    Country_Code,\n",
    "                                    City,\n",
    "                                    Address,\n",
    "                                    geometry\n",
    "                                FROM main_table;\"\"\"\n",
    "cur.execute(insert_into_restaurants)\n",
    "connection.commit()"
   ]
  },
  {
   "cell_type": "code",
   "execution_count": 46,
   "id": "every-strengthening",
   "metadata": {},
   "outputs": [],
   "source": [
    "# Migrate data to evaluation table from main_table:\n",
    "insert_into_evaluation = \"\"\"INSERT INTO evaluation\n",
    "                                SELECT DISTINCT\n",
    "                                    Restaurant_ID,\n",
    "                                    Table_booking,\n",
    "                                    Online_delivery,\n",
    "                                    Now_delivering,\n",
    "                                    Switch_menu,\n",
    "                                    Price_range\n",
    "                                FROM main_table;\"\"\"\n",
    "cur.execute(insert_into_evaluation)\n",
    "connection.commit()\n",
    "\n"
   ]
  },
  {
   "cell_type": "code",
   "execution_count": 47,
   "id": "separate-sailing",
   "metadata": {},
   "outputs": [],
   "source": [
    "# Migrate data to ratings table from main_table:\n",
    "insert_into_ratings = \"\"\"INSERT INTO ratings\n",
    "                                SELECT DISTINCT \n",
    "                                    Restaurant_ID,\n",
    "                                    Rating,\n",
    "                                    Rating_color,\n",
    "                                    Rating_text,\n",
    "                                    Votes\n",
    "                                FROM main_table;\"\"\"\n",
    "cur.execute(insert_into_ratings)\n",
    "connection.commit()"
   ]
  },
  {
   "cell_type": "code",
   "execution_count": 51,
   "id": "understanding-notice",
   "metadata": {},
   "outputs": [],
   "source": [
    "cur.execute(\"\"\"ALTER TABLE restaurants\n",
    "                ADD point POINT;\"\"\")\n",
    "connection.commit()"
   ]
  },
  {
   "cell_type": "code",
   "execution_count": 55,
   "id": "scenic-patrol",
   "metadata": {},
   "outputs": [
    {
     "ename": "ProgrammingError",
     "evalue": "(1064, \"You have an error in your SQL syntax; check the manual that corresponds to your MySQL server version for the right syntax to use near 'ALTER TABLE restaurants\\n                        INSERT INTO restaurants(point) V' at line 2\")",
     "output_type": "error",
     "traceback": [
      "\u001b[0;31m---------------------------------------------------------------------------\u001b[0m",
      "\u001b[0;31mProgrammingError\u001b[0m                          Traceback (most recent call last)",
      "\u001b[0;32m<ipython-input-55-1fbac9838740>\u001b[0m in \u001b[0;36m<module>\u001b[0;34m\u001b[0m\n\u001b[1;32m      4\u001b[0m                         \u001b[0mINSERT\u001b[0m \u001b[0mINTO\u001b[0m \u001b[0mrestaurants\u001b[0m\u001b[0;34m(\u001b[0m\u001b[0mpoint\u001b[0m\u001b[0;34m)\u001b[0m \u001b[0mVALUES\u001b[0m \u001b[0;34m(\u001b[0m\u001b[0mgeomfromtext\u001b[0m\u001b[0;34m(\u001b[0m\u001b[0;34m@\u001b[0m\u001b[0mg\u001b[0m\u001b[0;34m)\u001b[0m\u001b[0;34m)\u001b[0m\u001b[0;34m;\u001b[0m\u001b[0;34m\u001b[0m\u001b[0;34m\u001b[0m\u001b[0m\n\u001b[1;32m      5\u001b[0m \"\"\"\n\u001b[0;32m----> 6\u001b[0;31m \u001b[0mcur\u001b[0m\u001b[0;34m.\u001b[0m\u001b[0mexecute\u001b[0m\u001b[0;34m(\u001b[0m\u001b[0mpoint_formula\u001b[0m\u001b[0;34m)\u001b[0m\u001b[0;34m\u001b[0m\u001b[0;34m\u001b[0m\u001b[0m\n\u001b[0m\u001b[1;32m      7\u001b[0m \u001b[0mconnection\u001b[0m\u001b[0;34m.\u001b[0m\u001b[0mcommit\u001b[0m\u001b[0;34m(\u001b[0m\u001b[0;34m)\u001b[0m\u001b[0;34m\u001b[0m\u001b[0;34m\u001b[0m\u001b[0m\n",
      "\u001b[0;32m~/anaconda3/envs/comparative_databases/lib/python3.8/site-packages/pymysql/cursors.py\u001b[0m in \u001b[0;36mexecute\u001b[0;34m(self, query, args)\u001b[0m\n\u001b[1;32m    146\u001b[0m         \u001b[0mquery\u001b[0m \u001b[0;34m=\u001b[0m \u001b[0mself\u001b[0m\u001b[0;34m.\u001b[0m\u001b[0mmogrify\u001b[0m\u001b[0;34m(\u001b[0m\u001b[0mquery\u001b[0m\u001b[0;34m,\u001b[0m \u001b[0margs\u001b[0m\u001b[0;34m)\u001b[0m\u001b[0;34m\u001b[0m\u001b[0;34m\u001b[0m\u001b[0m\n\u001b[1;32m    147\u001b[0m \u001b[0;34m\u001b[0m\u001b[0m\n\u001b[0;32m--> 148\u001b[0;31m         \u001b[0mresult\u001b[0m \u001b[0;34m=\u001b[0m \u001b[0mself\u001b[0m\u001b[0;34m.\u001b[0m\u001b[0m_query\u001b[0m\u001b[0;34m(\u001b[0m\u001b[0mquery\u001b[0m\u001b[0;34m)\u001b[0m\u001b[0;34m\u001b[0m\u001b[0;34m\u001b[0m\u001b[0m\n\u001b[0m\u001b[1;32m    149\u001b[0m         \u001b[0mself\u001b[0m\u001b[0;34m.\u001b[0m\u001b[0m_executed\u001b[0m \u001b[0;34m=\u001b[0m \u001b[0mquery\u001b[0m\u001b[0;34m\u001b[0m\u001b[0;34m\u001b[0m\u001b[0m\n\u001b[1;32m    150\u001b[0m         \u001b[0;32mreturn\u001b[0m \u001b[0mresult\u001b[0m\u001b[0;34m\u001b[0m\u001b[0;34m\u001b[0m\u001b[0m\n",
      "\u001b[0;32m~/anaconda3/envs/comparative_databases/lib/python3.8/site-packages/pymysql/cursors.py\u001b[0m in \u001b[0;36m_query\u001b[0;34m(self, q)\u001b[0m\n\u001b[1;32m    308\u001b[0m         \u001b[0mself\u001b[0m\u001b[0;34m.\u001b[0m\u001b[0m_last_executed\u001b[0m \u001b[0;34m=\u001b[0m \u001b[0mq\u001b[0m\u001b[0;34m\u001b[0m\u001b[0;34m\u001b[0m\u001b[0m\n\u001b[1;32m    309\u001b[0m         \u001b[0mself\u001b[0m\u001b[0;34m.\u001b[0m\u001b[0m_clear_result\u001b[0m\u001b[0;34m(\u001b[0m\u001b[0;34m)\u001b[0m\u001b[0;34m\u001b[0m\u001b[0;34m\u001b[0m\u001b[0m\n\u001b[0;32m--> 310\u001b[0;31m         \u001b[0mconn\u001b[0m\u001b[0;34m.\u001b[0m\u001b[0mquery\u001b[0m\u001b[0;34m(\u001b[0m\u001b[0mq\u001b[0m\u001b[0;34m)\u001b[0m\u001b[0;34m\u001b[0m\u001b[0;34m\u001b[0m\u001b[0m\n\u001b[0m\u001b[1;32m    311\u001b[0m         \u001b[0mself\u001b[0m\u001b[0;34m.\u001b[0m\u001b[0m_do_get_result\u001b[0m\u001b[0;34m(\u001b[0m\u001b[0;34m)\u001b[0m\u001b[0;34m\u001b[0m\u001b[0;34m\u001b[0m\u001b[0m\n\u001b[1;32m    312\u001b[0m         \u001b[0;32mreturn\u001b[0m \u001b[0mself\u001b[0m\u001b[0;34m.\u001b[0m\u001b[0mrowcount\u001b[0m\u001b[0;34m\u001b[0m\u001b[0;34m\u001b[0m\u001b[0m\n",
      "\u001b[0;32m~/anaconda3/envs/comparative_databases/lib/python3.8/site-packages/pymysql/connections.py\u001b[0m in \u001b[0;36mquery\u001b[0;34m(self, sql, unbuffered)\u001b[0m\n\u001b[1;32m    546\u001b[0m             \u001b[0msql\u001b[0m \u001b[0;34m=\u001b[0m \u001b[0msql\u001b[0m\u001b[0;34m.\u001b[0m\u001b[0mencode\u001b[0m\u001b[0;34m(\u001b[0m\u001b[0mself\u001b[0m\u001b[0;34m.\u001b[0m\u001b[0mencoding\u001b[0m\u001b[0;34m,\u001b[0m \u001b[0;34m\"surrogateescape\"\u001b[0m\u001b[0;34m)\u001b[0m\u001b[0;34m\u001b[0m\u001b[0;34m\u001b[0m\u001b[0m\n\u001b[1;32m    547\u001b[0m         \u001b[0mself\u001b[0m\u001b[0;34m.\u001b[0m\u001b[0m_execute_command\u001b[0m\u001b[0;34m(\u001b[0m\u001b[0mCOMMAND\u001b[0m\u001b[0;34m.\u001b[0m\u001b[0mCOM_QUERY\u001b[0m\u001b[0;34m,\u001b[0m \u001b[0msql\u001b[0m\u001b[0;34m)\u001b[0m\u001b[0;34m\u001b[0m\u001b[0;34m\u001b[0m\u001b[0m\n\u001b[0;32m--> 548\u001b[0;31m         \u001b[0mself\u001b[0m\u001b[0;34m.\u001b[0m\u001b[0m_affected_rows\u001b[0m \u001b[0;34m=\u001b[0m \u001b[0mself\u001b[0m\u001b[0;34m.\u001b[0m\u001b[0m_read_query_result\u001b[0m\u001b[0;34m(\u001b[0m\u001b[0munbuffered\u001b[0m\u001b[0;34m=\u001b[0m\u001b[0munbuffered\u001b[0m\u001b[0;34m)\u001b[0m\u001b[0;34m\u001b[0m\u001b[0;34m\u001b[0m\u001b[0m\n\u001b[0m\u001b[1;32m    549\u001b[0m         \u001b[0;32mreturn\u001b[0m \u001b[0mself\u001b[0m\u001b[0;34m.\u001b[0m\u001b[0m_affected_rows\u001b[0m\u001b[0;34m\u001b[0m\u001b[0;34m\u001b[0m\u001b[0m\n\u001b[1;32m    550\u001b[0m \u001b[0;34m\u001b[0m\u001b[0m\n",
      "\u001b[0;32m~/anaconda3/envs/comparative_databases/lib/python3.8/site-packages/pymysql/connections.py\u001b[0m in \u001b[0;36m_read_query_result\u001b[0;34m(self, unbuffered)\u001b[0m\n\u001b[1;32m    773\u001b[0m         \u001b[0;32melse\u001b[0m\u001b[0;34m:\u001b[0m\u001b[0;34m\u001b[0m\u001b[0;34m\u001b[0m\u001b[0m\n\u001b[1;32m    774\u001b[0m             \u001b[0mresult\u001b[0m \u001b[0;34m=\u001b[0m \u001b[0mMySQLResult\u001b[0m\u001b[0;34m(\u001b[0m\u001b[0mself\u001b[0m\u001b[0;34m)\u001b[0m\u001b[0;34m\u001b[0m\u001b[0;34m\u001b[0m\u001b[0m\n\u001b[0;32m--> 775\u001b[0;31m             \u001b[0mresult\u001b[0m\u001b[0;34m.\u001b[0m\u001b[0mread\u001b[0m\u001b[0;34m(\u001b[0m\u001b[0;34m)\u001b[0m\u001b[0;34m\u001b[0m\u001b[0;34m\u001b[0m\u001b[0m\n\u001b[0m\u001b[1;32m    776\u001b[0m         \u001b[0mself\u001b[0m\u001b[0;34m.\u001b[0m\u001b[0m_result\u001b[0m \u001b[0;34m=\u001b[0m \u001b[0mresult\u001b[0m\u001b[0;34m\u001b[0m\u001b[0;34m\u001b[0m\u001b[0m\n\u001b[1;32m    777\u001b[0m         \u001b[0;32mif\u001b[0m \u001b[0mresult\u001b[0m\u001b[0;34m.\u001b[0m\u001b[0mserver_status\u001b[0m \u001b[0;32mis\u001b[0m \u001b[0;32mnot\u001b[0m \u001b[0;32mNone\u001b[0m\u001b[0;34m:\u001b[0m\u001b[0;34m\u001b[0m\u001b[0;34m\u001b[0m\u001b[0m\n",
      "\u001b[0;32m~/anaconda3/envs/comparative_databases/lib/python3.8/site-packages/pymysql/connections.py\u001b[0m in \u001b[0;36mread\u001b[0;34m(self)\u001b[0m\n\u001b[1;32m   1154\u001b[0m     \u001b[0;32mdef\u001b[0m \u001b[0mread\u001b[0m\u001b[0;34m(\u001b[0m\u001b[0mself\u001b[0m\u001b[0;34m)\u001b[0m\u001b[0;34m:\u001b[0m\u001b[0;34m\u001b[0m\u001b[0;34m\u001b[0m\u001b[0m\n\u001b[1;32m   1155\u001b[0m         \u001b[0;32mtry\u001b[0m\u001b[0;34m:\u001b[0m\u001b[0;34m\u001b[0m\u001b[0;34m\u001b[0m\u001b[0m\n\u001b[0;32m-> 1156\u001b[0;31m             \u001b[0mfirst_packet\u001b[0m \u001b[0;34m=\u001b[0m \u001b[0mself\u001b[0m\u001b[0;34m.\u001b[0m\u001b[0mconnection\u001b[0m\u001b[0;34m.\u001b[0m\u001b[0m_read_packet\u001b[0m\u001b[0;34m(\u001b[0m\u001b[0;34m)\u001b[0m\u001b[0;34m\u001b[0m\u001b[0;34m\u001b[0m\u001b[0m\n\u001b[0m\u001b[1;32m   1157\u001b[0m \u001b[0;34m\u001b[0m\u001b[0m\n\u001b[1;32m   1158\u001b[0m             \u001b[0;32mif\u001b[0m \u001b[0mfirst_packet\u001b[0m\u001b[0;34m.\u001b[0m\u001b[0mis_ok_packet\u001b[0m\u001b[0;34m(\u001b[0m\u001b[0;34m)\u001b[0m\u001b[0;34m:\u001b[0m\u001b[0;34m\u001b[0m\u001b[0;34m\u001b[0m\u001b[0m\n",
      "\u001b[0;32m~/anaconda3/envs/comparative_databases/lib/python3.8/site-packages/pymysql/connections.py\u001b[0m in \u001b[0;36m_read_packet\u001b[0;34m(self, packet_type)\u001b[0m\n\u001b[1;32m    723\u001b[0m             \u001b[0;32mif\u001b[0m \u001b[0mself\u001b[0m\u001b[0;34m.\u001b[0m\u001b[0m_result\u001b[0m \u001b[0;32mis\u001b[0m \u001b[0;32mnot\u001b[0m \u001b[0;32mNone\u001b[0m \u001b[0;32mand\u001b[0m \u001b[0mself\u001b[0m\u001b[0;34m.\u001b[0m\u001b[0m_result\u001b[0m\u001b[0;34m.\u001b[0m\u001b[0munbuffered_active\u001b[0m \u001b[0;32mis\u001b[0m \u001b[0;32mTrue\u001b[0m\u001b[0;34m:\u001b[0m\u001b[0;34m\u001b[0m\u001b[0;34m\u001b[0m\u001b[0m\n\u001b[1;32m    724\u001b[0m                 \u001b[0mself\u001b[0m\u001b[0;34m.\u001b[0m\u001b[0m_result\u001b[0m\u001b[0;34m.\u001b[0m\u001b[0munbuffered_active\u001b[0m \u001b[0;34m=\u001b[0m \u001b[0;32mFalse\u001b[0m\u001b[0;34m\u001b[0m\u001b[0;34m\u001b[0m\u001b[0m\n\u001b[0;32m--> 725\u001b[0;31m             \u001b[0mpacket\u001b[0m\u001b[0;34m.\u001b[0m\u001b[0mraise_for_error\u001b[0m\u001b[0;34m(\u001b[0m\u001b[0;34m)\u001b[0m\u001b[0;34m\u001b[0m\u001b[0;34m\u001b[0m\u001b[0m\n\u001b[0m\u001b[1;32m    726\u001b[0m         \u001b[0;32mreturn\u001b[0m \u001b[0mpacket\u001b[0m\u001b[0;34m\u001b[0m\u001b[0;34m\u001b[0m\u001b[0m\n\u001b[1;32m    727\u001b[0m \u001b[0;34m\u001b[0m\u001b[0m\n",
      "\u001b[0;32m~/anaconda3/envs/comparative_databases/lib/python3.8/site-packages/pymysql/protocol.py\u001b[0m in \u001b[0;36mraise_for_error\u001b[0;34m(self)\u001b[0m\n\u001b[1;32m    219\u001b[0m         \u001b[0;32mif\u001b[0m \u001b[0mDEBUG\u001b[0m\u001b[0;34m:\u001b[0m\u001b[0;34m\u001b[0m\u001b[0;34m\u001b[0m\u001b[0m\n\u001b[1;32m    220\u001b[0m             \u001b[0mprint\u001b[0m\u001b[0;34m(\u001b[0m\u001b[0;34m\"errno =\"\u001b[0m\u001b[0;34m,\u001b[0m \u001b[0merrno\u001b[0m\u001b[0;34m)\u001b[0m\u001b[0;34m\u001b[0m\u001b[0;34m\u001b[0m\u001b[0m\n\u001b[0;32m--> 221\u001b[0;31m         \u001b[0merr\u001b[0m\u001b[0;34m.\u001b[0m\u001b[0mraise_mysql_exception\u001b[0m\u001b[0;34m(\u001b[0m\u001b[0mself\u001b[0m\u001b[0;34m.\u001b[0m\u001b[0m_data\u001b[0m\u001b[0;34m)\u001b[0m\u001b[0;34m\u001b[0m\u001b[0;34m\u001b[0m\u001b[0m\n\u001b[0m\u001b[1;32m    222\u001b[0m \u001b[0;34m\u001b[0m\u001b[0m\n\u001b[1;32m    223\u001b[0m     \u001b[0;32mdef\u001b[0m \u001b[0mdump\u001b[0m\u001b[0;34m(\u001b[0m\u001b[0mself\u001b[0m\u001b[0;34m)\u001b[0m\u001b[0;34m:\u001b[0m\u001b[0;34m\u001b[0m\u001b[0;34m\u001b[0m\u001b[0m\n",
      "\u001b[0;32m~/anaconda3/envs/comparative_databases/lib/python3.8/site-packages/pymysql/err.py\u001b[0m in \u001b[0;36mraise_mysql_exception\u001b[0;34m(data)\u001b[0m\n\u001b[1;32m    141\u001b[0m     \u001b[0;32mif\u001b[0m \u001b[0merrorclass\u001b[0m \u001b[0;32mis\u001b[0m \u001b[0;32mNone\u001b[0m\u001b[0;34m:\u001b[0m\u001b[0;34m\u001b[0m\u001b[0;34m\u001b[0m\u001b[0m\n\u001b[1;32m    142\u001b[0m         \u001b[0merrorclass\u001b[0m \u001b[0;34m=\u001b[0m \u001b[0mInternalError\u001b[0m \u001b[0;32mif\u001b[0m \u001b[0merrno\u001b[0m \u001b[0;34m<\u001b[0m \u001b[0;36m1000\u001b[0m \u001b[0;32melse\u001b[0m \u001b[0mOperationalError\u001b[0m\u001b[0;34m\u001b[0m\u001b[0;34m\u001b[0m\u001b[0m\n\u001b[0;32m--> 143\u001b[0;31m     \u001b[0;32mraise\u001b[0m \u001b[0merrorclass\u001b[0m\u001b[0;34m(\u001b[0m\u001b[0merrno\u001b[0m\u001b[0;34m,\u001b[0m \u001b[0merrval\u001b[0m\u001b[0;34m)\u001b[0m\u001b[0;34m\u001b[0m\u001b[0;34m\u001b[0m\u001b[0m\n\u001b[0m",
      "\u001b[0;31mProgrammingError\u001b[0m: (1064, \"You have an error in your SQL syntax; check the manual that corresponds to your MySQL server version for the right syntax to use near 'ALTER TABLE restaurants\\n                        INSERT INTO restaurants(point) V' at line 2\")"
     ]
    }
   ],
   "source": [
    "point_formula = \"\"\"\n",
    "                    SET @g = restaurants(Coordinates);\n",
    "                    ALTER TABLE restaurants\n",
    "                        INSERT INTO restaurants(point) VALUES (geomfromtext(@g));\n",
    "\"\"\"\n",
    "cur.execute(point_formula)\n",
    "connection.commit()"
   ]
  },
  {
   "cell_type": "code",
   "execution_count": null,
   "id": "dimensional-cooperative",
   "metadata": {},
   "outputs": [],
   "source": []
  }
 ],
 "metadata": {
  "kernelspec": {
   "display_name": "Python 3",
   "language": "python",
   "name": "python3"
  },
  "language_info": {
   "codemirror_mode": {
    "name": "ipython",
    "version": 3
   },
   "file_extension": ".py",
   "mimetype": "text/x-python",
   "name": "python",
   "nbconvert_exporter": "python",
   "pygments_lexer": "ipython3",
   "version": "3.8.5"
  }
 },
 "nbformat": 4,
 "nbformat_minor": 5
}
