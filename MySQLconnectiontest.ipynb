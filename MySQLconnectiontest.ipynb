{
 "cells": [
  {
   "cell_type": "markdown",
   "id": "upset-qatar",
   "metadata": {},
   "source": [
    "## MySQL \n",
    "In this notebook, we created a ZomatoDB database, designed to store restaurants information, evaluations, and ratings.\n",
    "This data was collected from Zomato API. Exploratory_Data_Analysis.ipynb contains basic exploratory data analaysis of this dataset.\n",
    "Our approach consists on creating different relational tables using MySQL Workbench and PyMySQL. Then, we populated these tables and run analysis to test the database functionality. "
   ]
  },
  {
   "cell_type": "markdown",
   "id": "danish-birmingham",
   "metadata": {},
   "source": [
    "### Database creation:\n",
    "We locally host a MySQL database. "
   ]
  },
  {
   "cell_type": "code",
   "execution_count": 31,
   "id": "absent-animation",
   "metadata": {},
   "outputs": [
    {
     "name": "stdout",
     "output_type": "stream",
     "text": [
      "<pymysql.connections.Connection object at 0x7fd4b1925940>\n"
     ]
    }
   ],
   "source": [
    "import pymysql\n",
    "import pymysql.cursors\n",
    "from itertools import chain\n",
    "\n",
    "# Connect to the database that we ran in our localhost\n",
    "connection = pymysql.connect(host='localhost',\n",
    "                             user='root',\n",
    "                             password='34006503'\n",
    "                            )\n",
    "\n",
    "#From our connection we need a cursor, which acts as our interface into the database\n",
    "cur = connection.cursor()\n",
    "# We can verity we are connected:\n",
    "print(connection)"
   ]
  },
  {
   "cell_type": "code",
   "execution_count": 29,
   "id": "expensive-montana",
   "metadata": {},
   "outputs": [
    {
     "data": {
      "text/plain": [
       "1"
      ]
     },
     "execution_count": 29,
     "metadata": {},
     "output_type": "execute_result"
    }
   ],
   "source": [
    "# Create ZomatoDB database:\n",
    "cur.execute(\"CREATE DATABASE ZomatoDB\")"
   ]
  },
  {
   "cell_type": "code",
   "execution_count": 2,
   "id": "presidential-induction",
   "metadata": {},
   "outputs": [
    {
     "name": "stdout",
     "output_type": "stream",
     "text": [
      "('information_schema',)\n",
      "('mysql',)\n",
      "('performance_schema',)\n",
      "('sys',)\n",
      "('testdb',)\n",
      "('ZomatoDB',)\n"
     ]
    }
   ],
   "source": [
    "# Verify that the database was created\n",
    "cur.execute('SHOW DATABASES')\n",
    "for db in cur:\n",
    "    print(db)"
   ]
  },
  {
   "cell_type": "code",
   "execution_count": 32,
   "id": "animated-roberts",
   "metadata": {},
   "outputs": [],
   "source": [
    "# Then we specify a connection to the ZomatoDB database:\n",
    "connection = pymysql.connect(host='localhost',\n",
    "                             user='root',\n",
    "                             password='34006503',\n",
    "                            database='ZomatoDB')\n",
    "\n",
    "#From our connection we need a cursor, which acts as our interface into the database\n",
    "cur = connection.cursor()"
   ]
  },
  {
   "cell_type": "code",
   "execution_count": 112,
   "id": "copyrighted-railway",
   "metadata": {},
   "outputs": [],
   "source": [
    "# Start cleaning all tables that already exists:\n",
    "cur.execute(\"DROP TABLES country_code, cuisines, evaluation, locality, main_table, ratings\")\n",
    "connection.commit()"
   ]
  },
  {
   "cell_type": "markdown",
   "id": "ranking-latino",
   "metadata": {},
   "source": [
    "### Tables creation:"
   ]
  },
  {
   "cell_type": "code",
   "execution_count": 113,
   "id": "amended-samoa",
   "metadata": {},
   "outputs": [],
   "source": [
    "# Create main table that store information about a restaurant's name, id, and location:\n",
    "cur.execute(\"DROP TABLE IF EXISTS main_table;\")\n",
    "connection.commit()\n",
    "\n",
    "create_main_table = \"\"\"CREATE TABLE main_table(\n",
    "                        Restaurant_ID INT NOT NULL,\n",
    "                        Restaurant_Name VARCHAR(255),\n",
    "                        Country_Code INT,\n",
    "                        City VARCHAR(255),\n",
    "                        Address VARCHAR(255),\n",
    "                        Locality VARCHAR(255),\n",
    "                        Longitude DOUBLE,\n",
    "                        Latitude DOUBLE,\n",
    "                        KEY (Country_Code),\n",
    "                        PRIMARY KEY (Restaurant_ID));\"\"\"\n",
    "                            \n",
    "cur.execute(create_main_table)\n",
    "connection.commit()"
   ]
  },
  {
   "cell_type": "code",
   "execution_count": 114,
   "id": "theoretical-invitation",
   "metadata": {},
   "outputs": [],
   "source": [
    "## Cuisine table consists of the different types of cuisines that you can find in each restaurant:\n",
    "cur.execute(\"DROP TABLE IF EXISTS cuisines\")\n",
    "connection.commit()\n",
    "\n",
    "create_cuisines_table = \"\"\"CREATE TABLE cuisines(\n",
    "                            Restaurant_ID INT,\n",
    "                            Cuisine_type VARCHAR(255),\n",
    "                            KEY (Restaurant_ID));\"\"\"\n",
    "\n",
    "cur.execute(create_cuisines_table)\n",
    "connection.commit()"
   ]
  },
  {
   "cell_type": "code",
   "execution_count": 115,
   "id": "statistical-billy",
   "metadata": {},
   "outputs": [],
   "source": [
    "## Country_codes table is an additional table that we created to make the country_code column useful:\n",
    "cur.execute(\"DROP TABLE IF EXISTS country_code\")\n",
    "connection.commit()\n",
    "\n",
    "create_countrycode_table = \"\"\"CREATE TABLE country_code(\n",
    "                            country_code INT,\n",
    "                            Country VARCHAR(255),\n",
    "                            PRIMARY KEY (country_code));\"\"\"\n",
    "\n",
    "cur.execute(create_countrycode_table)\n",
    "connection.commit()"
   ]
  },
  {
   "cell_type": "code",
   "execution_count": 116,
   "id": "current-mozambique",
   "metadata": {},
   "outputs": [],
   "source": [
    "# Evaluation table store the results of restaurants evaluations, which consisted on yes/no cuestions\n",
    "# regarding certain characteristics:\n",
    "cur.execute(\"DROP TABLE IF EXISTS evaluation;\")\n",
    "connection.commit()\n",
    "\n",
    "create_evaluation_table = \"\"\"CREATE TABLE evaluation(\n",
    "                                Restaurant_ID INT,\n",
    "                                Table_booking BOOL,\n",
    "                                Online_delivery BOOL,\n",
    "                                Now_delivering BOOL,\n",
    "                                Switch_menu BOOL,\n",
    "                                Price_range INT,\n",
    "                                KEY (Restaurant_ID)\n",
    "                                );\"\"\"\n",
    "cur.execute(create_evaluation_table)\n",
    "connection.commit()"
   ]
  },
  {
   "cell_type": "code",
   "execution_count": 117,
   "id": "extraordinary-editor",
   "metadata": {},
   "outputs": [],
   "source": [
    "# ratings table store the results of the restaurants ratings:\n",
    "cur.execute(\"DROP TABLE IF EXISTS ratings;\")\n",
    "connection.commit()\n",
    "\n",
    "create_rating_table = \"\"\"CREATE TABLE ratings(\n",
    "                            Restaurant_ID INT,\n",
    "                            Rating FLOAT, \n",
    "                            Rating_color VARCHAR(255),\n",
    "                            Rating_text VARCHAR(255),\n",
    "                            Votes DOUBLE,\n",
    "                            KEY (Restaurant_ID));\"\"\"\n",
    "\n",
    "cur.execute(create_rating_table)\n",
    "connection.commit()"
   ]
  },
  {
   "cell_type": "code",
   "execution_count": 118,
   "id": "traditional-indianapolis",
   "metadata": {},
   "outputs": [],
   "source": [
    "cur.execute(\"DROP TABLE IF EXISTS locality;\")\n",
    "connection.commit()\n",
    "\n",
    "create_locality_table = \"\"\"CREATE TABLE locality(\n",
    "                            Restaurant_ID INT,\n",
    "                            Locality VARCHAR(255),\n",
    "                            KEY (Restaurant_ID));\n",
    "                            \"\"\"\n",
    "\n",
    "cur.execute(create_locality_table)\n",
    "connection.commit()\n"
   ]
  },
  {
   "cell_type": "code",
   "execution_count": 119,
   "id": "ruled-knight",
   "metadata": {},
   "outputs": [
    {
     "name": "stdout",
     "output_type": "stream",
     "text": [
      "('country_code',)\n",
      "('cuisines',)\n",
      "('evaluation',)\n",
      "('locality',)\n",
      "('main_table',)\n",
      "('ratings',)\n"
     ]
    }
   ],
   "source": [
    "# Verify that tables were created:\n",
    "cur.execute('SHOW TABLES')\n",
    "for tb in cur:\n",
    "    print(tb)"
   ]
  },
  {
   "cell_type": "markdown",
   "id": "hundred-people",
   "metadata": {},
   "source": [
    "### Migration of data:"
   ]
  },
  {
   "cell_type": "code",
   "execution_count": 82,
   "id": "regional-pollution",
   "metadata": {},
   "outputs": [],
   "source": [
    "# First we imported the dataset that came in .csv format:\n",
    "import pandas as pd\n",
    "import numpy as np\n",
    "\n",
    "zomato_df = pd.read_csv('zomato.csv', encoding='latin1')\n",
    "\n",
    "# We also imported a dataset that help us to map the original Country code\n",
    "# to its name:\n",
    "code_df = pd.read_excel('Country-Code.xlsx')"
   ]
  },
  {
   "cell_type": "code",
   "execution_count": 83,
   "id": "subjective-sucking",
   "metadata": {},
   "outputs": [],
   "source": [
    "# We drop NaN values, edited the yes/no evaluation columns to booleans, and\n",
    "# partitioned the dataset into simplier dataframes tha will help us to populate\n",
    "\n",
    "# the different tables in the database:\n",
    "zomato_df.dropna(inplace=True)\n",
    "\n",
    "# Yes/No to boolean:\n",
    "d = {'Yes': True, 'No':False}\n",
    "zomato_df['Has Table booking'] = zomato_df['Has Table booking'].map(d)\n",
    "zomato_df['Has Online delivery'] = zomato_df['Has Online delivery'].map(d)\n",
    "zomato_df['Is delivering now'] = zomato_df['Is delivering now'].map(d)\n",
    "zomato_df['Switch to order menu'] = zomato_df['Switch to order menu'].map(d)\n",
    "\n",
    "# We also need to transform the column Restaurant ID to integer type:\n",
    "zomato_df['Restaurant ID'] = zomato_df['Restaurant ID'].astype(int)\n",
    "\n",
    "# main_table data:\n",
    "main_table_df = zomato_df[[\n",
    "    'Restaurant ID', \n",
    "    'Restaurant Name', \n",
    "    'Country Code', \n",
    "    'City', 'Address', 'Locality', \n",
    "    'Longitude', 'Latitude']]\n",
    "\n",
    "# evaluation table data:\n",
    "evaluation_df = zomato_df[[\n",
    "    'Restaurant ID',\n",
    "    'Has Table booking',\n",
    "    'Has Online delivery',\n",
    "    'Is delivering now',\n",
    "    'Switch to order menu',\n",
    "    'Price range']]\n",
    "# ratings table data:\n",
    "ratings_df = zomato_df[[\n",
    "    'Restaurant ID',\n",
    "    'Aggregate rating',\n",
    "    'Rating color',\n",
    "    'Rating text',\n",
    "    'Votes']]\n"
   ]
  },
  {
   "cell_type": "code",
   "execution_count": 96,
   "id": "super-milwaukee",
   "metadata": {},
   "outputs": [
    {
     "data": {
      "text/html": [
       "<div>\n",
       "<style scoped>\n",
       "    .dataframe tbody tr th:only-of-type {\n",
       "        vertical-align: middle;\n",
       "    }\n",
       "\n",
       "    .dataframe tbody tr th {\n",
       "        vertical-align: top;\n",
       "    }\n",
       "\n",
       "    .dataframe thead th {\n",
       "        text-align: right;\n",
       "    }\n",
       "</style>\n",
       "<table border=\"1\" class=\"dataframe\">\n",
       "  <thead>\n",
       "    <tr style=\"text-align: right;\">\n",
       "      <th></th>\n",
       "      <th>Restaurant ID</th>\n",
       "      <th>Restaurant Name</th>\n",
       "      <th>Country Code</th>\n",
       "      <th>City</th>\n",
       "      <th>Address</th>\n",
       "      <th>Locality</th>\n",
       "      <th>Longitude</th>\n",
       "      <th>Latitude</th>\n",
       "    </tr>\n",
       "  </thead>\n",
       "  <tbody>\n",
       "  </tbody>\n",
       "</table>\n",
       "</div>"
      ],
      "text/plain": [
       "Empty DataFrame\n",
       "Columns: [Restaurant ID, Restaurant Name, Country Code, City, Address, Locality, Longitude, Latitude]\n",
       "Index: []"
      ]
     },
     "execution_count": 96,
     "metadata": {},
     "output_type": "execute_result"
    }
   ],
   "source": [
    "main_table_df[main_table_df.duplicated()]"
   ]
  },
  {
   "cell_type": "code",
   "execution_count": 85,
   "id": "coordinated-decline",
   "metadata": {},
   "outputs": [
    {
     "data": {
      "text/html": [
       "<div>\n",
       "<style scoped>\n",
       "    .dataframe tbody tr th:only-of-type {\n",
       "        vertical-align: middle;\n",
       "    }\n",
       "\n",
       "    .dataframe tbody tr th {\n",
       "        vertical-align: top;\n",
       "    }\n",
       "\n",
       "    .dataframe thead th {\n",
       "        text-align: right;\n",
       "    }\n",
       "</style>\n",
       "<table border=\"1\" class=\"dataframe\">\n",
       "  <thead>\n",
       "    <tr style=\"text-align: right;\">\n",
       "      <th></th>\n",
       "      <th>Restaurant ID</th>\n",
       "      <th>Cuisines</th>\n",
       "    </tr>\n",
       "  </thead>\n",
       "  <tbody>\n",
       "    <tr>\n",
       "      <th>0</th>\n",
       "      <td>6317637</td>\n",
       "      <td>French</td>\n",
       "    </tr>\n",
       "    <tr>\n",
       "      <th>0</th>\n",
       "      <td>6317637</td>\n",
       "      <td>Japanese</td>\n",
       "    </tr>\n",
       "    <tr>\n",
       "      <th>0</th>\n",
       "      <td>6317637</td>\n",
       "      <td>Desserts</td>\n",
       "    </tr>\n",
       "  </tbody>\n",
       "</table>\n",
       "</div>"
      ],
      "text/plain": [
       "   Restaurant ID  Cuisines\n",
       "0        6317637    French\n",
       "0        6317637  Japanese\n",
       "0        6317637  Desserts"
      ]
     },
     "execution_count": 85,
     "metadata": {},
     "output_type": "execute_result"
    }
   ],
   "source": [
    "# We saw in the Exploratory Data analysis notebook that cuisines column\n",
    "# has nested lists of the different cuisine types. We dissagregate those lists\n",
    "# and stored them in new rows:\n",
    "# return list from series of comma-separated strings\n",
    "def chainer(s):\n",
    "  return list(chain.from_iterable(s.str.split(',')))\n",
    "\n",
    "# calculate lengths of splits\n",
    "lens = zomato_df['Cuisines'].str.split(',').map(len)\n",
    "\n",
    "# create new dataframe, reapeting or chaining as appropiate\n",
    "res = pd.DataFrame({\n",
    "    'Restaurant ID': np.repeat(zomato_df['Restaurant ID'], lens),\n",
    "    'Cuisines':chainer(zomato_df['Cuisines'])\n",
    "})\n",
    "\n",
    "res_cuisine = res.apply(lambda x: x.str.strip() if x.dtype == \"object\" else x)\n",
    "res_cuisine.head(3)"
   ]
  },
  {
   "cell_type": "code",
   "execution_count": 86,
   "id": "academic-nepal",
   "metadata": {},
   "outputs": [
    {
     "data": {
      "text/html": [
       "<div>\n",
       "<style scoped>\n",
       "    .dataframe tbody tr th:only-of-type {\n",
       "        vertical-align: middle;\n",
       "    }\n",
       "\n",
       "    .dataframe tbody tr th {\n",
       "        vertical-align: top;\n",
       "    }\n",
       "\n",
       "    .dataframe thead th {\n",
       "        text-align: right;\n",
       "    }\n",
       "</style>\n",
       "<table border=\"1\" class=\"dataframe\">\n",
       "  <thead>\n",
       "    <tr style=\"text-align: right;\">\n",
       "      <th></th>\n",
       "      <th>Restaurant ID</th>\n",
       "      <th>Locality</th>\n",
       "    </tr>\n",
       "  </thead>\n",
       "  <tbody>\n",
       "    <tr>\n",
       "      <th>0</th>\n",
       "      <td>6317637</td>\n",
       "      <td>Century City Mall</td>\n",
       "    </tr>\n",
       "    <tr>\n",
       "      <th>0</th>\n",
       "      <td>6317637</td>\n",
       "      <td>Poblacion</td>\n",
       "    </tr>\n",
       "    <tr>\n",
       "      <th>0</th>\n",
       "      <td>6317637</td>\n",
       "      <td>Makati City</td>\n",
       "    </tr>\n",
       "  </tbody>\n",
       "</table>\n",
       "</div>"
      ],
      "text/plain": [
       "   Restaurant ID           Locality\n",
       "0        6317637  Century City Mall\n",
       "0        6317637          Poblacion\n",
       "0        6317637        Makati City"
      ]
     },
     "execution_count": 86,
     "metadata": {},
     "output_type": "execute_result"
    }
   ],
   "source": [
    "# Likewise, we saw that Locality column contains nested list of the localities\n",
    "# of each restaurants. Therefore, we dissagregated those cells into new columns:\n",
    "# calculate lengths of splits\n",
    "lens_locality = zomato_df['Locality'].str.split(',').map(len)\n",
    "\n",
    "# create new dataframe, reapeting or chaining as appropiate\n",
    "res_first = pd.DataFrame({\n",
    "    'Restaurant ID': np.repeat(zomato_df['Restaurant ID'], lens_locality),\n",
    "    'Locality':chainer(zomato_df['Locality'])\n",
    "})\n",
    "\n",
    "res_locality = res_first.apply(lambda x: x.str.strip() if x.dtype == \"object\" else x)\n",
    "res_locality.head(3)"
   ]
  },
  {
   "cell_type": "markdown",
   "id": "satellite-prediction",
   "metadata": {},
   "source": [
    "We have now partitioned the original dataset into:\n",
    "- main_table_df -> basic information of restaurants like name, id, location.\n",
    "- evaluation_df -> evaluation yes/no questions, transformed to booleans.\n",
    "- ratings_df -> rating of each restaurant.\n",
    "- code_df -> countries code.\n",
    "- res_cuisine -> different types of restaurants cuisines\n",
    "\n",
    "To migrate the data we transformed our dataframes into tuples, and then \n",
    "inserted these tuples into their respective MySQL tables:"
   ]
  },
  {
   "cell_type": "code",
   "execution_count": 87,
   "id": "brief-volleyball",
   "metadata": {},
   "outputs": [],
   "source": [
    "# transform the different dataframes to tuples:\n",
    "main_tuples = [tuple(x) for x in main_table_df.to_numpy()]\n",
    "evaluation_tuples = [tuple(x) for x in evaluation_df.to_numpy()]\n",
    "rating_tuples = [tuple(x) for x in ratings_df.to_numpy()]\n",
    "cuisine_tuples = [tuple(x) for x in res_cuisine.to_numpy()]\n",
    "locality_tuples = [tuple(x) for x in res_locality.to_numpy()]\n",
    "country_code_tuples = [tuple(x) for x in code_df.to_numpy()]\n",
    "\n"
   ]
  },
  {
   "cell_type": "code",
   "execution_count": 120,
   "id": "ethical-administrator",
   "metadata": {},
   "outputs": [],
   "source": [
    "# Then we created sql formulas to be executed in our cursor:\n",
    "main_sql = \"\"\"INSERT INTO main_table \n",
    "                    (\n",
    "                    Restaurant_ID,\n",
    "                    Restaurant_Name,\n",
    "                    Country_Code,\n",
    "                    City,\n",
    "                    Address,\n",
    "                    Locality,\n",
    "                    Longitude,\n",
    "                    Latitude) \n",
    "                    VALUES (%s, %s, %s, %s, %s, %s, %s, %s);\"\"\" #%s placeholders\n",
    "\n",
    "evaluation_sql = \"\"\"INSERT INTO evaluation \n",
    "                    (\n",
    "                    Restaurant_ID,\n",
    "                    Table_booking,\n",
    "                    Online_delivery,\n",
    "                    Now_delivering,\n",
    "                    Switch_menu,\n",
    "                    Price_range) \n",
    "                    VALUES(%s, %s, %s, %s, %s, %s);\"\"\"\n",
    "\n",
    "rating_sql = \"\"\"INSERT INTO ratings \n",
    "                    (\n",
    "                    Restaurant_ID,\n",
    "                    Rating,\n",
    "                    Rating_color,\n",
    "                    Rating_text,\n",
    "                    Votes) \n",
    "                    VALUES(%s, %s, %s, %s, %s);\"\"\"\n",
    "\n",
    "cuisine_sql = \"\"\"INSERT INTO cuisines\n",
    "                    (\n",
    "                    Restaurant_ID,\n",
    "                    Cuisine_type) \n",
    "                    VALUES (%s, %s);\"\"\"\n",
    "\n",
    "locality_sql = \"\"\"INSERT INTO locality\n",
    "                    (\n",
    "                    Restaurant_ID,\n",
    "                    Locality) \n",
    "                    VALUES (%s, %s);\"\"\"\n",
    "\n",
    "country_code_sql = \"\"\"INSERT INTO country_code\n",
    "                    (\n",
    "                    country_code,\n",
    "                    Country) \n",
    "                    VALUES (%s, %s);\"\"\"\n",
    "\n"
   ]
  },
  {
   "cell_type": "code",
   "execution_count": 121,
   "id": "parental-wilson",
   "metadata": {},
   "outputs": [],
   "source": [
    "# Execute all above:\n",
    "cur.executemany(main_sql, main_tuples)\n",
    "connection.commit()\n",
    "\n",
    "cur.executemany(evaluation_sql, evaluation_tuples)\n",
    "connection.commit()\n",
    "\n",
    "cur.executemany(rating_sql, rating_tuples)\n",
    "connection.commit()\n",
    "\n",
    "cur.executemany(cuisine_sql, cuisine_tuples)\n",
    "connection.commit()\n",
    "\n",
    "cur.executemany(locality_sql, locality_tuples)\n",
    "connection.commit()\n",
    "\n",
    "cur.executemany(country_code_sql, country_code_tuples)\n",
    "connection.commit()"
   ]
  },
  {
   "cell_type": "code",
   "execution_count": 122,
   "id": "atomic-reaction",
   "metadata": {},
   "outputs": [],
   "source": [
    "# Now we create the raltion of the tables with Restaurant_ID KEY:\n",
    "\n",
    "# cuisines table:\n",
    "cur.execute(\"\"\"ALTER TABLE cuisines\n",
    "                ADD CONSTRAINT cuisine_fk FOREIGN KEY (Restaurant_ID) \n",
    "                    REFERENCES main_table(Restaurant_ID);\"\"\")\n",
    "connection.commit()\n",
    "\n",
    "# evaluation:\n",
    "cur.execute(\"\"\"ALTER TABLE evaluation\n",
    "                ADD CONSTRAINT evaluation_fk FOREIGN KEY (Restaurant_ID) \n",
    "                    REFERENCES main_table(Restaurant_ID);\"\"\")\n",
    "connection.commit()\n",
    "\n",
    "# ratings:\n",
    "cur.execute(\"\"\"ALTER TABLE ratings\n",
    "                ADD CONSTRAINT ratings_fk FOREIGN KEY (Restaurant_ID) \n",
    "                    REFERENCES main_table(Restaurant_ID);\"\"\")\n",
    "connection.commit()\n",
    "\n",
    "# locality:\n",
    "cur.execute(\"\"\"ALTER TABLE locality\n",
    "                ADD CONSTRAINT locality_fk FOREIGN KEY (Restaurant_ID) \n",
    "                    REFERENCES main_table(Restaurant_ID);\"\"\")\n",
    "connection.commit()\n",
    "\n",
    "# country_code:\n",
    "cur.execute(\"\"\"ALTER TABLE country_code\n",
    "                ADD CONSTRAINT country_fk FOREIGN KEY (country_code) \n",
    "                    REFERENCES main_table(Country_Code);\"\"\")\n",
    "connection.commit()"
   ]
  },
  {
   "cell_type": "code",
   "execution_count": 127,
   "id": "worth-confidence",
   "metadata": {},
   "outputs": [
    {
     "data": {
      "text/html": [
       "<div>\n",
       "<style scoped>\n",
       "    .dataframe tbody tr th:only-of-type {\n",
       "        vertical-align: middle;\n",
       "    }\n",
       "\n",
       "    .dataframe tbody tr th {\n",
       "        vertical-align: top;\n",
       "    }\n",
       "\n",
       "    .dataframe thead th {\n",
       "        text-align: right;\n",
       "    }\n",
       "</style>\n",
       "<table border=\"1\" class=\"dataframe\">\n",
       "  <thead>\n",
       "    <tr style=\"text-align: right;\">\n",
       "      <th></th>\n",
       "      <th>Restaurant ID</th>\n",
       "      <th>Cuisines</th>\n",
       "    </tr>\n",
       "  </thead>\n",
       "  <tbody>\n",
       "    <tr>\n",
       "      <th>11</th>\n",
       "      <td>6309455</td>\n",
       "      <td>American</td>\n",
       "    </tr>\n",
       "    <tr>\n",
       "      <th>15</th>\n",
       "      <td>18185059</td>\n",
       "      <td>American</td>\n",
       "    </tr>\n",
       "    <tr>\n",
       "      <th>19</th>\n",
       "      <td>6308205</td>\n",
       "      <td>American</td>\n",
       "    </tr>\n",
       "    <tr>\n",
       "      <th>20</th>\n",
       "      <td>6315438</td>\n",
       "      <td>American</td>\n",
       "    </tr>\n",
       "    <tr>\n",
       "      <th>21</th>\n",
       "      <td>6310406</td>\n",
       "      <td>American</td>\n",
       "    </tr>\n",
       "    <tr>\n",
       "      <th>...</th>\n",
       "      <td>...</td>\n",
       "      <td>...</td>\n",
       "    </tr>\n",
       "    <tr>\n",
       "      <th>9504</th>\n",
       "      <td>5800746</td>\n",
       "      <td>American</td>\n",
       "    </tr>\n",
       "    <tr>\n",
       "      <th>9507</th>\n",
       "      <td>5800156</td>\n",
       "      <td>American</td>\n",
       "    </tr>\n",
       "    <tr>\n",
       "      <th>9511</th>\n",
       "      <td>5800316</td>\n",
       "      <td>American</td>\n",
       "    </tr>\n",
       "    <tr>\n",
       "      <th>9513</th>\n",
       "      <td>5800433</td>\n",
       "      <td>American</td>\n",
       "    </tr>\n",
       "    <tr>\n",
       "      <th>9515</th>\n",
       "      <td>5801321</td>\n",
       "      <td>American</td>\n",
       "    </tr>\n",
       "  </tbody>\n",
       "</table>\n",
       "<p>390 rows × 2 columns</p>\n",
       "</div>"
      ],
      "text/plain": [
       "      Restaurant ID  Cuisines\n",
       "11          6309455  American\n",
       "15         18185059  American\n",
       "19          6308205  American\n",
       "20          6315438  American\n",
       "21          6310406  American\n",
       "...             ...       ...\n",
       "9504        5800746  American\n",
       "9507        5800156  American\n",
       "9511        5800316  American\n",
       "9513        5800433  American\n",
       "9515        5801321  American\n",
       "\n",
       "[390 rows x 2 columns]"
      ]
     },
     "execution_count": 127,
     "metadata": {},
     "output_type": "execute_result"
    }
   ],
   "source": [
    "res_cuisine[res_cuisine['Cuisines'] == 'American']"
   ]
  },
  {
   "cell_type": "code",
   "execution_count": null,
   "id": "grand-retail",
   "metadata": {},
   "outputs": [],
   "source": []
  }
 ],
 "metadata": {
  "kernelspec": {
   "display_name": "Python 3",
   "language": "python",
   "name": "python3"
  },
  "language_info": {
   "codemirror_mode": {
    "name": "ipython",
    "version": 3
   },
   "file_extension": ".py",
   "mimetype": "text/x-python",
   "name": "python",
   "nbconvert_exporter": "python",
   "pygments_lexer": "ipython3",
   "version": "3.8.5"
  }
 },
 "nbformat": 4,
 "nbformat_minor": 5
}
