{
 "cells": [
  {
   "cell_type": "markdown",
   "id": "coated-shore",
   "metadata": {},
   "source": [
    "## MySQL \n",
    "In this notebook, we created a connection to our database (ZomatoDB), and also created and populated the different tables.\n",
    "This database is designed to store information about the restaurants like location, cuisine types, ratings, and the evaluation.\n",
    "First, we created a \"main_table\" to store all the data that we cleaned in the Exploratory_Data_Analysis notebook.\n",
    "Second, we created \"restaurants\", \"cuisines\", \"location\", \"evaluation\", and \"ratings\" tables.\n",
    "Third, we migrated the original dataset \"cleaned_zomato.csv\" to \"main_table\"\n",
    "Finally, we populated our tables from the data in \"main_table\", and added constraints about primary keys, and foreign keys."
   ]
  },
  {
   "cell_type": "code",
   "execution_count": 128,
   "id": "taken-appeal",
   "metadata": {},
   "outputs": [],
   "source": [
    "import pymysql"
   ]
  },
  {
   "cell_type": "code",
   "execution_count": 113,
   "id": "demographic-answer",
   "metadata": {},
   "outputs": [],
   "source": [
    "import pymysql.cursors\n",
    "# Connect to the database that we ran in our localhost\n",
    "connection = pymysql.connect(host='localhost',\n",
    "                             user='root',\n",
    "                             password='34006503'\n",
    "                            )\n",
    "\n",
    "#From our connection we need a cursor, which acts as our interface into the database\n",
    "cur = connection.cursor()"
   ]
  },
  {
   "cell_type": "code",
   "execution_count": 114,
   "id": "daily-inquiry",
   "metadata": {},
   "outputs": [
    {
     "name": "stdout",
     "output_type": "stream",
     "text": [
      "<pymysql.connections.Connection object at 0x7ff123063310>\n"
     ]
    }
   ],
   "source": [
    "# We can verity we are connected:\n",
    "print(connection)"
   ]
  },
  {
   "cell_type": "code",
   "execution_count": 29,
   "id": "crude-vampire",
   "metadata": {},
   "outputs": [
    {
     "data": {
      "text/plain": [
       "1"
      ]
     },
     "execution_count": 29,
     "metadata": {},
     "output_type": "execute_result"
    }
   ],
   "source": [
    "# Create our database callde zomatoDB:\n",
    "\n",
    "cur.execute(\"CREATE DATABASE ZomatoDB\")"
   ]
  },
  {
   "cell_type": "code",
   "execution_count": 115,
   "id": "third-trial",
   "metadata": {},
   "outputs": [
    {
     "name": "stdout",
     "output_type": "stream",
     "text": [
      "('information_schema',)\n",
      "('mysql',)\n",
      "('performance_schema',)\n",
      "('sys',)\n",
      "('testdb',)\n",
      "('ZomatoDB',)\n"
     ]
    }
   ],
   "source": [
    "# Verify that the database was created\n",
    "cur.execute('SHOW DATABASES')\n",
    "for db in cur:\n",
    "    print(db)"
   ]
  },
  {
   "cell_type": "code",
   "execution_count": 129,
   "id": "phantom-sussex",
   "metadata": {},
   "outputs": [],
   "source": [
    "# Then we specify a connection to the ZomatoDBdatabase\n",
    "connection = pymysql.connect(host='localhost',\n",
    "                             user='root',\n",
    "                             password='34006503',\n",
    "                            database='ZomatoDB')\n",
    "\n",
    "#From our connection we need a cursor, which acts as our interface into the database\n",
    "cur = connection.cursor()"
   ]
  },
  {
   "cell_type": "code",
   "execution_count": 118,
   "id": "native-specialist",
   "metadata": {},
   "outputs": [],
   "source": [
    "cur.execute(\"DROP TABLES evaluation, ratings, restaurants\")\n",
    "connection.commit()"
   ]
  },
  {
   "cell_type": "markdown",
   "id": "collected-david",
   "metadata": {},
   "source": [
    "Tables creation section:"
   ]
  },
  {
   "cell_type": "code",
   "execution_count": 132,
   "id": "verified-collection",
   "metadata": {},
   "outputs": [],
   "source": [
    "# Create main table that contains all dataset\n",
    "# Coordinates will be added separately for the moment\n",
    "cur.execute(\"DROP TABLE IF EXISTS main_table;\")\n",
    "connection.commit()\n",
    "\n",
    "make_main_table = \"\"\"CREATE TABLE main_table(\n",
    "                        Restaurant_ID INT NOT NULL DEFAULT '00000000',\n",
    "                        Restaurant_Name VARCHAR(255),\n",
    "                        Country_Code INT,\n",
    "                        City VARCHAR(255),\n",
    "                        Address VARCHAR(255),\n",
    "                        Locality VARCHAR(255),\n",
    "                        Longitude DOUBLE,\n",
    "                        Latitude DOUBLE,\n",
    "                        Cuisine VARCHAR(255),\n",
    "                        Average_Cost_for_two INT,\n",
    "                        Currency VARCHAR(255),\n",
    "                        Table_booking BOOL,\n",
    "                        Online_delivery BOOL,\n",
    "                        Now_delivering BOOL,\n",
    "                        Switch_menu BOOL,\n",
    "                        Price_range INT,\n",
    "                        Rating DOUBLE,\n",
    "                        Rating_color VARCHAR(255),\n",
    "                        Rating_text VARCHAR(255),\n",
    "                        Votes VARCHAR(255),\n",
    "                        Average_cost_USD INT);\"\"\"\n",
    "                            \n",
    "cur.execute(make_main_table)\n",
    "connection.commit()"
   ]
  },
  {
   "cell_type": "code",
   "execution_count": 134,
   "id": "sophisticated-heart",
   "metadata": {},
   "outputs": [],
   "source": [
    "cur.execute(\"DROP TABLE IF EXISTS restaurants;\")\n",
    "connection.commit()\n",
    "make_restaurant_table = \"\"\"CREATE TABLE restaurants(\n",
    "                            Restaurant_ID INT NOT NULL DEFAULT '000000',\n",
    "                            Restaurant_Name VARCHAR(255),\n",
    "                            Country_Code INT,\n",
    "                            City VARCHAR(255),\n",
    "                            Address VARCHAR(255),\n",
    "                            Locality VARCHAR(255),\n",
    "                            Longitude DOUBLE,\n",
    "                            Latitude DOUBLE, \n",
    "                            PRIMARY KEY (Restaurant_ID));\"\"\"\n",
    "cur.execute(make_restaurant_table)\n",
    "connection.commit()"
   ]
  },
  {
   "cell_type": "code",
   "execution_count": 35,
   "id": "aboriginal-inventory",
   "metadata": {},
   "outputs": [],
   "source": [
    "## Space for cuisine table"
   ]
  },
  {
   "cell_type": "code",
   "execution_count": null,
   "id": "subject-sacramento",
   "metadata": {},
   "outputs": [],
   "source": [
    "## Space for Location table"
   ]
  },
  {
   "cell_type": "code",
   "execution_count": 135,
   "id": "catholic-investigation",
   "metadata": {},
   "outputs": [],
   "source": [
    "cur.execute(\"DROP TABLE IF EXISTS evaluation;\")\n",
    "connection.commit()\n",
    "make_evaluation_table = \"\"\"CREATE TABLE evaluation(\n",
    "                                Restaurant_ID INT,\n",
    "                                Table_booking BOOL,\n",
    "                                Online_delivery BOOL,\n",
    "                                Now_delivering BOOL,\n",
    "                                Switch_menu BOOL,\n",
    "                                Price_range INT,\n",
    "                                KEY (Restaurant_ID),\n",
    "                                CONSTRAINT id_fk FOREIGN KEY (Restaurant_ID)\n",
    "                                    REFERENCES restaurants (Restaurant_ID) ON DELETE CASCADE\n",
    "                                );\"\"\"\n",
    "cur.execute(make_evaluation_table)\n",
    "connection.commit()\n",
    "\n"
   ]
  },
  {
   "cell_type": "code",
   "execution_count": 136,
   "id": "seven-grant",
   "metadata": {},
   "outputs": [],
   "source": [
    "cur.execute(\"DROP TABLE IF EXISTS ratings;\")\n",
    "connection.commit()\n",
    "\n",
    "make_rating_table = \"\"\"CREATE TABLE ratings(\n",
    "                            Restaurant_ID INT,\n",
    "                            Rating FLOAT, \n",
    "                            Rating_color VARCHAR(255),\n",
    "                            Rating_text VARCHAR(255),\n",
    "                            Votes VARCHAR(255),\n",
    "                            KEY (Restaurant_ID),\n",
    "                                CONSTRAINT ev_fk FOREIGN KEY (Restaurant_ID)\n",
    "                                    REFERENCES restaurants (Restaurant_ID) ON DELETE CASCADE\n",
    "                            );\"\"\"\n",
    "\n",
    "cur.execute(make_rating_table)\n",
    "connection.commit()"
   ]
  },
  {
   "cell_type": "code",
   "execution_count": 137,
   "id": "welcome-humanity",
   "metadata": {},
   "outputs": [
    {
     "name": "stdout",
     "output_type": "stream",
     "text": [
      "('evaluation',)\n",
      "('main_table',)\n",
      "('ratings',)\n",
      "('restaurants',)\n"
     ]
    }
   ],
   "source": [
    "# Verify that tables were created:\n",
    "cur.execute('SHOW TABLES')\n",
    "for tb in cur:\n",
    "    print(tb)"
   ]
  },
  {
   "cell_type": "markdown",
   "id": "previous-combine",
   "metadata": {},
   "source": [
    "Data migration section:"
   ]
  },
  {
   "cell_type": "code",
   "execution_count": 144,
   "id": "romance-concept",
   "metadata": {},
   "outputs": [],
   "source": [
    "import pandas as pd\n",
    "import numpy as np\n",
    "\n",
    "zomato_dataframe = pd.read_csv('cleaned_zomato.csv')"
   ]
  },
  {
   "cell_type": "code",
   "execution_count": 145,
   "id": "lightweight-gazette",
   "metadata": {},
   "outputs": [
    {
     "data": {
      "text/html": [
       "<div>\n",
       "<style scoped>\n",
       "    .dataframe tbody tr th:only-of-type {\n",
       "        vertical-align: middle;\n",
       "    }\n",
       "\n",
       "    .dataframe tbody tr th {\n",
       "        vertical-align: top;\n",
       "    }\n",
       "\n",
       "    .dataframe thead th {\n",
       "        text-align: right;\n",
       "    }\n",
       "</style>\n",
       "<table border=\"1\" class=\"dataframe\">\n",
       "  <thead>\n",
       "    <tr style=\"text-align: right;\">\n",
       "      <th></th>\n",
       "      <th>Restaurant ID</th>\n",
       "      <th>Restaurant Name</th>\n",
       "      <th>Country Code</th>\n",
       "      <th>City</th>\n",
       "      <th>Address</th>\n",
       "      <th>Locality</th>\n",
       "      <th>Longitude</th>\n",
       "      <th>Latitude</th>\n",
       "      <th>Cuisines</th>\n",
       "      <th>Average Cost for two</th>\n",
       "      <th>...</th>\n",
       "      <th>Has Online delivery</th>\n",
       "      <th>Is delivering now</th>\n",
       "      <th>Switch to order menu</th>\n",
       "      <th>Price range</th>\n",
       "      <th>Aggregate rating</th>\n",
       "      <th>Rating color</th>\n",
       "      <th>Rating text</th>\n",
       "      <th>Votes</th>\n",
       "      <th>Average cost USD</th>\n",
       "      <th>geometry</th>\n",
       "    </tr>\n",
       "  </thead>\n",
       "  <tbody>\n",
       "    <tr>\n",
       "      <th>0</th>\n",
       "      <td>6317637</td>\n",
       "      <td>Le Petit Souffle</td>\n",
       "      <td>162.0</td>\n",
       "      <td>Makati City</td>\n",
       "      <td>Third Floor, Century City Mall, Kalayaan Avenu...</td>\n",
       "      <td>Century City Mall, Poblacion, Makati City</td>\n",
       "      <td>121.02753500000001</td>\n",
       "      <td>14.565443</td>\n",
       "      <td>French</td>\n",
       "      <td>1100</td>\n",
       "      <td>...</td>\n",
       "      <td>No</td>\n",
       "      <td>No</td>\n",
       "      <td>No</td>\n",
       "      <td>3.0</td>\n",
       "      <td>4.8</td>\n",
       "      <td>Dark Green</td>\n",
       "      <td>Excellent</td>\n",
       "      <td>314.0</td>\n",
       "      <td>100.1</td>\n",
       "      <td>POINT (121.027535 14.565443)</td>\n",
       "    </tr>\n",
       "    <tr>\n",
       "      <th>1</th>\n",
       "      <td>6317637</td>\n",
       "      <td>Le Petit Souffle</td>\n",
       "      <td>162.0</td>\n",
       "      <td>Makati City</td>\n",
       "      <td>Third Floor, Century City Mall, Kalayaan Avenu...</td>\n",
       "      <td>Century City Mall, Poblacion, Makati City</td>\n",
       "      <td>121.02753500000001</td>\n",
       "      <td>14.565443</td>\n",
       "      <td>Japanese</td>\n",
       "      <td>1100</td>\n",
       "      <td>...</td>\n",
       "      <td>No</td>\n",
       "      <td>No</td>\n",
       "      <td>No</td>\n",
       "      <td>3.0</td>\n",
       "      <td>4.8</td>\n",
       "      <td>Dark Green</td>\n",
       "      <td>Excellent</td>\n",
       "      <td>314.0</td>\n",
       "      <td>100.1</td>\n",
       "      <td>POINT (121.027535 14.565443)</td>\n",
       "    </tr>\n",
       "    <tr>\n",
       "      <th>2</th>\n",
       "      <td>6317637</td>\n",
       "      <td>Le Petit Souffle</td>\n",
       "      <td>162.0</td>\n",
       "      <td>Makati City</td>\n",
       "      <td>Third Floor, Century City Mall, Kalayaan Avenu...</td>\n",
       "      <td>Century City Mall, Poblacion, Makati City</td>\n",
       "      <td>121.02753500000001</td>\n",
       "      <td>14.565443</td>\n",
       "      <td>Desserts</td>\n",
       "      <td>1100</td>\n",
       "      <td>...</td>\n",
       "      <td>No</td>\n",
       "      <td>No</td>\n",
       "      <td>No</td>\n",
       "      <td>3.0</td>\n",
       "      <td>4.8</td>\n",
       "      <td>Dark Green</td>\n",
       "      <td>Excellent</td>\n",
       "      <td>314.0</td>\n",
       "      <td>100.1</td>\n",
       "      <td>POINT (121.027535 14.565443)</td>\n",
       "    </tr>\n",
       "  </tbody>\n",
       "</table>\n",
       "<p>3 rows × 22 columns</p>\n",
       "</div>"
      ],
      "text/plain": [
       "  Restaurant ID   Restaurant Name  Country Code         City  \\\n",
       "0       6317637  Le Petit Souffle         162.0  Makati City   \n",
       "1       6317637  Le Petit Souffle         162.0  Makati City   \n",
       "2       6317637  Le Petit Souffle         162.0  Makati City   \n",
       "\n",
       "                                             Address  \\\n",
       "0  Third Floor, Century City Mall, Kalayaan Avenu...   \n",
       "1  Third Floor, Century City Mall, Kalayaan Avenu...   \n",
       "2  Third Floor, Century City Mall, Kalayaan Avenu...   \n",
       "\n",
       "                                    Locality           Longitude   Latitude  \\\n",
       "0  Century City Mall, Poblacion, Makati City  121.02753500000001  14.565443   \n",
       "1  Century City Mall, Poblacion, Makati City  121.02753500000001  14.565443   \n",
       "2  Century City Mall, Poblacion, Makati City  121.02753500000001  14.565443   \n",
       "\n",
       "    Cuisines Average Cost for two  ... Has Online delivery Is delivering now  \\\n",
       "0     French                 1100  ...                  No                No   \n",
       "1   Japanese                 1100  ...                  No                No   \n",
       "2   Desserts                 1100  ...                  No                No   \n",
       "\n",
       "  Switch to order menu Price range Aggregate rating  Rating color Rating text  \\\n",
       "0                   No         3.0              4.8    Dark Green   Excellent   \n",
       "1                   No         3.0              4.8    Dark Green   Excellent   \n",
       "2                   No         3.0              4.8    Dark Green   Excellent   \n",
       "\n",
       "   Votes Average cost USD                      geometry  \n",
       "0  314.0            100.1  POINT (121.027535 14.565443)  \n",
       "1  314.0            100.1  POINT (121.027535 14.565443)  \n",
       "2  314.0            100.1  POINT (121.027535 14.565443)  \n",
       "\n",
       "[3 rows x 22 columns]"
      ]
     },
     "execution_count": 145,
     "metadata": {},
     "output_type": "execute_result"
    }
   ],
   "source": [
    "zomato_dataframe.drop('Unnamed: 0', axis=1, inplace=True)\n",
    "zomato_dataframe.head(3)\n"
   ]
  },
  {
   "cell_type": "code",
   "execution_count": 146,
   "id": "precise-hebrew",
   "metadata": {},
   "outputs": [],
   "source": [
    "# We forgot to format table booking, online delivery and switch to order menu as booleans:\n",
    "d = {'Yes': True, 'No':False}\n",
    "zomato_dataframe['Has Table booking'] = zomato_dataframe['Has Table booking'].map(d)\n",
    "zomato_dataframe['Has Online delivery'] = zomato_dataframe['Has Online delivery'].map(d)\n",
    "zomato_dataframe['Is delivering now'] = zomato_dataframe['Is delivering now'].map(d)\n",
    "zomato_dataframe['Switch to order menu'] = zomato_dataframe['Switch to order menu'].map(d)"
   ]
  },
  {
   "cell_type": "code",
   "execution_count": 147,
   "id": "large-passion",
   "metadata": {},
   "outputs": [
    {
     "name": "stdout",
     "output_type": "stream",
     "text": [
      "Dimensions of our dataframe before drop: (19712, 22)\n",
      "Dimensions of our dataframe after drop: (19708, 22)\n"
     ]
    }
   ],
   "source": [
    "# We also applied dropna to double check that we get rid of all null values:\n",
    "print('Dimensions of our dataframe before drop:',zomato_dataframe.shape)\n",
    "zomato_dataframe.dropna(inplace=True)\n",
    "print('Dimensions of our dataframe after drop:',zomato_dataframe.shape)"
   ]
  },
  {
   "cell_type": "code",
   "execution_count": 148,
   "id": "terminal-equality",
   "metadata": {},
   "outputs": [],
   "source": [
    "# We also need to transform the column Restaurant ID to integer type:\n",
    "zomato_dataframe['Restaurant ID'] = zomato_dataframe['Restaurant ID'].astype(int)"
   ]
  },
  {
   "cell_type": "code",
   "execution_count": 149,
   "id": "wrapped-concrete",
   "metadata": {},
   "outputs": [
    {
     "name": "stdout",
     "output_type": "stream",
     "text": [
      "<class 'pandas.core.frame.DataFrame'>\n",
      "Int64Index: 19708 entries, 0 to 19711\n",
      "Data columns (total 22 columns):\n",
      " #   Column                Non-Null Count  Dtype  \n",
      "---  ------                --------------  -----  \n",
      " 0   Restaurant ID         19708 non-null  int64  \n",
      " 1   Restaurant Name       19708 non-null  object \n",
      " 2   Country Code          19708 non-null  float64\n",
      " 3   City                  19708 non-null  object \n",
      " 4   Address               19708 non-null  object \n",
      " 5   Locality              19708 non-null  object \n",
      " 6   Longitude             19708 non-null  object \n",
      " 7   Latitude              19708 non-null  object \n",
      " 8   Cuisines              19708 non-null  object \n",
      " 9   Average Cost for two  19708 non-null  object \n",
      " 10  Currency              19708 non-null  object \n",
      " 11  Has Table booking     19708 non-null  object \n",
      " 12  Has Online delivery   19708 non-null  object \n",
      " 13  Is delivering now     19708 non-null  object \n",
      " 14  Switch to order menu  19708 non-null  object \n",
      " 15  Price range           19708 non-null  float64\n",
      " 16  Aggregate rating      19708 non-null  object \n",
      " 17  Rating color          19708 non-null  object \n",
      " 18  Rating text           19708 non-null  object \n",
      " 19  Votes                 19708 non-null  float64\n",
      " 20  Average cost USD      19708 non-null  float64\n",
      " 21  geometry              19708 non-null  object \n",
      "dtypes: float64(4), int64(1), object(17)\n",
      "memory usage: 3.5+ MB\n"
     ]
    }
   ],
   "source": [
    "# Quick check that our datatypes in the dataframe match with our DB:\n",
    "zomato_dataframe.info()"
   ]
  },
  {
   "cell_type": "code",
   "execution_count": 150,
   "id": "planned-holly",
   "metadata": {},
   "outputs": [],
   "source": [
    "# To populate \"main_table\" we first added all columns (except geometry) as a tuple:\n",
    "subset = zomato_dataframe[zomato_dataframe.drop('geometry',axis=1).columns]\n",
    "tuples = [tuple(x) for x in subset.to_numpy()]\n",
    "\n",
    "# Then we wrote this generalized formula:\n",
    "sqlFormula = \"\"\"INSERT INTO main_table \n",
    "                    (\n",
    "                    Restaurant_ID,\n",
    "                    Restaurant_Name,\n",
    "                    Country_Code,\n",
    "                    City,\n",
    "                    Address,\n",
    "                    Locality,\n",
    "                    Longitude,\n",
    "                    Latitude,\n",
    "                    Cuisine,\n",
    "                    Average_Cost_for_two,\n",
    "                    Currency,\n",
    "                    Table_booking,\n",
    "                    Online_delivery,\n",
    "                    Now_delivering,\n",
    "                    Switch_menu,\n",
    "                    Price_range,\n",
    "                    Rating,\n",
    "                    Rating_color,\n",
    "                    Rating_text,\n",
    "                    Votes,\n",
    "                    Average_cost_USD\n",
    "                    ) \n",
    "                    VALUES (\n",
    "                    %s, %s, %s, %s, %s, %s, %s, %s, \n",
    "                    %s, %s, %s, %s, %s, %s, \n",
    "                    %s, %s, %s, %s, %s, %s, %s\n",
    "                    );\"\"\" #%s placeholders\n",
    "\n",
    "# And executed:\n",
    "cur.executemany(sqlFormula, tuples)\n",
    "connection.commit()"
   ]
  },
  {
   "cell_type": "code",
   "execution_count": 140,
   "id": "apart-louis",
   "metadata": {},
   "outputs": [],
   "source": [
    "# Migrate data to the restaurants table so we can create primary keys on the Restauran Id column\n",
    "insert_into_restaurants = \"\"\"INSERT INTO restaurants\n",
    "                                SELECT DISTINCT \n",
    "                                    Restaurant_ID,\n",
    "                                    Restaurant_Name,\n",
    "                                    Country_Code,\n",
    "                                    City,\n",
    "                                    Address,\n",
    "                                    Locality,\n",
    "                                    Longitude,\n",
    "                                    Latitude\n",
    "                                FROM main_table;\"\"\"\n",
    "cur.execute(insert_into_restaurants)\n",
    "connection.commit()"
   ]
  },
  {
   "cell_type": "code",
   "execution_count": 141,
   "id": "moral-twelve",
   "metadata": {},
   "outputs": [],
   "source": [
    "# Migrate data to evaluation table from main_table:\n",
    "insert_into_evaluation = \"\"\"INSERT INTO evaluation\n",
    "                                SELECT DISTINCT\n",
    "                                    Restaurant_ID,\n",
    "                                    Table_booking,\n",
    "                                    Online_delivery,\n",
    "                                    Now_delivering,\n",
    "                                    Switch_menu,\n",
    "                                    Price_range\n",
    "                                FROM main_table;\"\"\"\n",
    "cur.execute(insert_into_evaluation)\n",
    "connection.commit()\n",
    "\n"
   ]
  },
  {
   "cell_type": "code",
   "execution_count": 142,
   "id": "amino-termination",
   "metadata": {},
   "outputs": [],
   "source": [
    "# Migrate data to ratings table from main_table:\n",
    "insert_into_ratings = \"\"\"INSERT INTO ratings\n",
    "                                SELECT DISTINCT \n",
    "                                    Restaurant_ID,\n",
    "                                    Rating,\n",
    "                                    Rating_color,\n",
    "                                    Rating_text,\n",
    "                                    Votes\n",
    "                                FROM main_table;\"\"\"\n",
    "cur.execute(insert_into_ratings)\n",
    "connection.commit()"
   ]
  },
  {
   "cell_type": "code",
   "execution_count": null,
   "id": "accessory-found",
   "metadata": {},
   "outputs": [],
   "source": []
  }
 ],
 "metadata": {
  "kernelspec": {
   "display_name": "Python 3",
   "language": "python",
   "name": "python3"
  },
  "language_info": {
   "codemirror_mode": {
    "name": "ipython",
    "version": 3
   },
   "file_extension": ".py",
   "mimetype": "text/x-python",
   "name": "python",
   "nbconvert_exporter": "python",
   "pygments_lexer": "ipython3",
   "version": "3.8.5"
  }
 },
 "nbformat": 4,
 "nbformat_minor": 5
}
