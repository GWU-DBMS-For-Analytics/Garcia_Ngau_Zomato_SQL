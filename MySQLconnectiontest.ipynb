{
 "cells": [
  {
   "cell_type": "code",
   "execution_count": 1,
   "id": "dependent-packaging",
   "metadata": {},
   "outputs": [],
   "source": [
    "import pymysql"
   ]
  },
  {
   "cell_type": "code",
   "execution_count": 2,
   "id": "coated-rwanda",
   "metadata": {},
   "outputs": [],
   "source": [
    "import pymysql.cursors\n",
    "# Connect to the database\n",
    "connection = pymysql.connect(host='localhost',\n",
    "                             user='root',\n",
    "                             password='34006503'\n",
    "                            )\n",
    "\n",
    "#From our connection we need a cursor, which acts as our interface into the database\n",
    "cur = connection.cursor()"
   ]
  },
  {
   "cell_type": "code",
   "execution_count": 3,
   "id": "suffering-sampling",
   "metadata": {},
   "outputs": [
    {
     "name": "stdout",
     "output_type": "stream",
     "text": [
      "<pymysql.connections.Connection object at 0x7fad6553bb20>\n"
     ]
    }
   ],
   "source": [
    "print(connection)"
   ]
  },
  {
   "cell_type": "code",
   "execution_count": 29,
   "id": "theoretical-behavior",
   "metadata": {},
   "outputs": [
    {
     "data": {
      "text/plain": [
       "1"
      ]
     },
     "execution_count": 29,
     "metadata": {},
     "output_type": "execute_result"
    }
   ],
   "source": [
    "cur.execute(\"CREATE DATABASE ZomatoDB\")"
   ]
  },
  {
   "cell_type": "code",
   "execution_count": 4,
   "id": "narrative-concert",
   "metadata": {},
   "outputs": [
    {
     "name": "stdout",
     "output_type": "stream",
     "text": [
      "('information_schema',)\n",
      "('mysql',)\n",
      "('performance_schema',)\n",
      "('sys',)\n",
      "('testdb',)\n",
      "('ZomatoDB',)\n"
     ]
    }
   ],
   "source": [
    "cur.execute('SHOW DATABASES')\n",
    "for db in cur:\n",
    "    print(db)"
   ]
  },
  {
   "cell_type": "code",
   "execution_count": 5,
   "id": "affected-staff",
   "metadata": {},
   "outputs": [],
   "source": [
    "# Connect to the database\n",
    "connection = pymysql.connect(host='localhost',\n",
    "                             user='root',\n",
    "                             password='34006503',\n",
    "                            database='ZomatoDB')\n",
    "\n",
    "#From our connection we need a cursor, which acts as our interface into the database\n",
    "cur = connection.cursor()"
   ]
  },
  {
   "cell_type": "markdown",
   "id": "romantic-animation",
   "metadata": {},
   "source": [
    "### Our database designed to store information in RESTAURANTS, CUISINES, EVALUATION, and RATING table."
   ]
  },
  {
   "cell_type": "code",
   "execution_count": 69,
   "id": "demonstrated-doctrine",
   "metadata": {},
   "outputs": [],
   "source": [
    "# Create main table that contains all dataset\n",
    "# Coordinates will be added separately for the moment\n",
    "make_main_table = \"\"\"CREATE TABLE main_table(\n",
    "                        Restaurant_ID INT NOT NULL,\n",
    "                        Restaurant_Name VARCHAR(255),\n",
    "                        Country_Code INT,\n",
    "                        City VARCHAR(255),\n",
    "                        Address VARCHAR(255),\n",
    "                        Locality VARCHAR(255),\n",
    "                        Cuisine VARCHAR(255),\n",
    "                        Average_Cost_for_two INT,\n",
    "                        Currency VARCHAR(255),\n",
    "                        Table_booking BOOL,\n",
    "                        Online_delivery BOOL,\n",
    "                        Now_delivering BOOL,\n",
    "                        Switch_menu BOOL,\n",
    "                        Price_range INT,\n",
    "                        Aggregate_rating FLOAT,\n",
    "                        Rating_color VARCHAR(255),\n",
    "                        Rating_text VARCHAR(255),\n",
    "                        Votes VARCHAR(255),\n",
    "                        Average_cost_USD INT);\"\"\"\n",
    "                            \n",
    "cur.execute(make_main_table)\n",
    "connection.commit()"
   ]
  },
  {
   "cell_type": "code",
   "execution_count": 35,
   "id": "friendly-bidder",
   "metadata": {},
   "outputs": [],
   "source": [
    "make_cuisines_table = \"\"\"CREATE TABLE cuisines(\n",
    "                            Cuisine_type VARCHAR(255),\n",
    "                            Restaurant_ID INT,\n",
    "                            Coordinates POINT,\n",
    "                            PRIMARY KEY (Restaurant_ID),\n",
    "                            FOREIGN KEY (Restaurant_ID)\n",
    "                                REFERENCES maint_table(Restaurant_ID));\n",
    "                            \"\"\"\n",
    "#cur.execute(make_cuisines_table)\n",
    "#connection.commit()"
   ]
  },
  {
   "cell_type": "code",
   "execution_count": 66,
   "id": "ethical-integral",
   "metadata": {},
   "outputs": [],
   "source": [
    "make_evaluation_table = \"\"\"CREATE TABLE evaluation(\n",
    "                                Table_booking BOOL,\n",
    "                                Oneline_delivery BOOL,\n",
    "                                Now_delivering BOOL,\n",
    "                                Switch_menu BOOL,\n",
    "                                Price_range INT,\n",
    "                                Restaurant_ID INT);\"\"\"\n",
    "cur.execute(make_evaluation_table)\n",
    "connection.commit()"
   ]
  },
  {
   "cell_type": "code",
   "execution_count": 67,
   "id": "certified-lying",
   "metadata": {},
   "outputs": [],
   "source": [
    "# correct rating -> Aggregate rating\n",
    "make_rating_table = \"\"\"CREATE TABLE ratings(\n",
    "                            Rating FLOAT, \n",
    "                            Rating_color VARCHAR(255),\n",
    "                            Rating_text VARCHAR(255),\n",
    "                            Votes VARCHAR(255),\n",
    "                            Restaurant_ID INT);\"\"\"\n",
    "\n",
    "cur.execute(make_rating_table)\n",
    "connection.commit()"
   ]
  },
  {
   "cell_type": "code",
   "execution_count": 70,
   "id": "sealed-harvard",
   "metadata": {},
   "outputs": [
    {
     "name": "stdout",
     "output_type": "stream",
     "text": [
      "('evaluation',)\n",
      "('main_table',)\n",
      "('ratings',)\n"
     ]
    }
   ],
   "source": [
    "cur.execute('SHOW TABLES')\n",
    "for tb in cur:\n",
    "    print(tb)"
   ]
  },
  {
   "cell_type": "code",
   "execution_count": 13,
   "id": "advised-minister",
   "metadata": {},
   "outputs": [],
   "source": [
    "import pandas as pd\n",
    "import numpy as np\n",
    "\n",
    "zomato_dataframe = pd.read_csv('cleaned_zomato.csv')"
   ]
  },
  {
   "cell_type": "code",
   "execution_count": 14,
   "id": "junior-saver",
   "metadata": {},
   "outputs": [
    {
     "data": {
      "text/html": [
       "<div>\n",
       "<style scoped>\n",
       "    .dataframe tbody tr th:only-of-type {\n",
       "        vertical-align: middle;\n",
       "    }\n",
       "\n",
       "    .dataframe tbody tr th {\n",
       "        vertical-align: top;\n",
       "    }\n",
       "\n",
       "    .dataframe thead th {\n",
       "        text-align: right;\n",
       "    }\n",
       "</style>\n",
       "<table border=\"1\" class=\"dataframe\">\n",
       "  <thead>\n",
       "    <tr style=\"text-align: right;\">\n",
       "      <th></th>\n",
       "      <th>Restaurant ID</th>\n",
       "      <th>Restaurant Name</th>\n",
       "      <th>Country Code</th>\n",
       "      <th>City</th>\n",
       "      <th>Address</th>\n",
       "      <th>Locality</th>\n",
       "      <th>Cuisines</th>\n",
       "      <th>Average Cost for two</th>\n",
       "      <th>Currency</th>\n",
       "      <th>Has Table booking</th>\n",
       "      <th>Has Online delivery</th>\n",
       "      <th>Is delivering now</th>\n",
       "      <th>Switch to order menu</th>\n",
       "      <th>Price range</th>\n",
       "      <th>Aggregate rating</th>\n",
       "      <th>Rating color</th>\n",
       "      <th>Rating text</th>\n",
       "      <th>Votes</th>\n",
       "      <th>Average cost USD</th>\n",
       "      <th>geometry</th>\n",
       "    </tr>\n",
       "  </thead>\n",
       "  <tbody>\n",
       "    <tr>\n",
       "      <th>0</th>\n",
       "      <td>6317637</td>\n",
       "      <td>Le Petit Souffle</td>\n",
       "      <td>162</td>\n",
       "      <td>Makati City</td>\n",
       "      <td>Third Floor, Century City Mall, Kalayaan Avenu...</td>\n",
       "      <td>Century City Mall, Poblacion, Makati City</td>\n",
       "      <td>French</td>\n",
       "      <td>1100</td>\n",
       "      <td>Botswana Pula(P)</td>\n",
       "      <td>Yes</td>\n",
       "      <td>No</td>\n",
       "      <td>No</td>\n",
       "      <td>No</td>\n",
       "      <td>3.0</td>\n",
       "      <td>4.8</td>\n",
       "      <td>Dark Green</td>\n",
       "      <td>Excellent</td>\n",
       "      <td>314.0</td>\n",
       "      <td>100.1</td>\n",
       "      <td>POINT (121.027535 14.565443)</td>\n",
       "    </tr>\n",
       "    <tr>\n",
       "      <th>1</th>\n",
       "      <td>6317637</td>\n",
       "      <td>Le Petit Souffle</td>\n",
       "      <td>162</td>\n",
       "      <td>Makati City</td>\n",
       "      <td>Third Floor, Century City Mall, Kalayaan Avenu...</td>\n",
       "      <td>Century City Mall, Poblacion, Makati City</td>\n",
       "      <td>Japanese</td>\n",
       "      <td>1100</td>\n",
       "      <td>Botswana Pula(P)</td>\n",
       "      <td>Yes</td>\n",
       "      <td>No</td>\n",
       "      <td>No</td>\n",
       "      <td>No</td>\n",
       "      <td>3.0</td>\n",
       "      <td>4.8</td>\n",
       "      <td>Dark Green</td>\n",
       "      <td>Excellent</td>\n",
       "      <td>314.0</td>\n",
       "      <td>100.1</td>\n",
       "      <td>POINT (121.027535 14.565443)</td>\n",
       "    </tr>\n",
       "    <tr>\n",
       "      <th>2</th>\n",
       "      <td>6317637</td>\n",
       "      <td>Le Petit Souffle</td>\n",
       "      <td>162</td>\n",
       "      <td>Makati City</td>\n",
       "      <td>Third Floor, Century City Mall, Kalayaan Avenu...</td>\n",
       "      <td>Century City Mall, Poblacion, Makati City</td>\n",
       "      <td>Desserts</td>\n",
       "      <td>1100</td>\n",
       "      <td>Botswana Pula(P)</td>\n",
       "      <td>Yes</td>\n",
       "      <td>No</td>\n",
       "      <td>No</td>\n",
       "      <td>No</td>\n",
       "      <td>3.0</td>\n",
       "      <td>4.8</td>\n",
       "      <td>Dark Green</td>\n",
       "      <td>Excellent</td>\n",
       "      <td>314.0</td>\n",
       "      <td>100.1</td>\n",
       "      <td>POINT (121.027535 14.565443)</td>\n",
       "    </tr>\n",
       "  </tbody>\n",
       "</table>\n",
       "</div>"
      ],
      "text/plain": [
       "  Restaurant ID   Restaurant Name  Country Code         City  \\\n",
       "0       6317637  Le Petit Souffle           162  Makati City   \n",
       "1       6317637  Le Petit Souffle           162  Makati City   \n",
       "2       6317637  Le Petit Souffle           162  Makati City   \n",
       "\n",
       "                                             Address  \\\n",
       "0  Third Floor, Century City Mall, Kalayaan Avenu...   \n",
       "1  Third Floor, Century City Mall, Kalayaan Avenu...   \n",
       "2  Third Floor, Century City Mall, Kalayaan Avenu...   \n",
       "\n",
       "                                    Locality   Cuisines Average Cost for two  \\\n",
       "0  Century City Mall, Poblacion, Makati City     French                 1100   \n",
       "1  Century City Mall, Poblacion, Makati City   Japanese                 1100   \n",
       "2  Century City Mall, Poblacion, Makati City   Desserts                 1100   \n",
       "\n",
       "           Currency Has Table booking Has Online delivery Is delivering now  \\\n",
       "0  Botswana Pula(P)               Yes                  No                No   \n",
       "1  Botswana Pula(P)               Yes                  No                No   \n",
       "2  Botswana Pula(P)               Yes                  No                No   \n",
       "\n",
       "  Switch to order menu  Price range Aggregate rating Rating color Rating text  \\\n",
       "0                   No          3.0              4.8   Dark Green   Excellent   \n",
       "1                   No          3.0              4.8   Dark Green   Excellent   \n",
       "2                   No          3.0              4.8   Dark Green   Excellent   \n",
       "\n",
       "   Votes  Average cost USD                      geometry  \n",
       "0  314.0             100.1  POINT (121.027535 14.565443)  \n",
       "1  314.0             100.1  POINT (121.027535 14.565443)  \n",
       "2  314.0             100.1  POINT (121.027535 14.565443)  "
      ]
     },
     "execution_count": 14,
     "metadata": {},
     "output_type": "execute_result"
    }
   ],
   "source": [
    "zomato_dataframe.drop('Unnamed: 0', axis=1, inplace=True)\n",
    "zomato_dataframe.head(3)\n"
   ]
  },
  {
   "cell_type": "code",
   "execution_count": 37,
   "id": "historic-steps",
   "metadata": {},
   "outputs": [],
   "source": [
    "d = {'Yes': True, 'No':False}\n",
    "zomato_dataframe['Has Table booking'] = zomato_dataframe['Has Table booking'].map(d)\n",
    "zomato_dataframe['Has Online delivery'] = zomato_dataframe['Has Online delivery'].map(d)\n",
    "zomato_dataframe['Is delivering now'] = zomato_dataframe['Is delivering now'].map(d)\n",
    "zomato_dataframe['Switch to order menu'] = zomato_dataframe['Switch to order menu'].map(d)\n",
    "\n",
    "\n"
   ]
  },
  {
   "cell_type": "code",
   "execution_count": 41,
   "id": "partial-apparatus",
   "metadata": {},
   "outputs": [
    {
     "data": {
      "text/plain": [
       "(19708, 20)"
      ]
     },
     "execution_count": 41,
     "metadata": {},
     "output_type": "execute_result"
    }
   ],
   "source": [
    "zomato_dataframe.dropna(inplace=True)\n",
    "zomato_dataframe.shape"
   ]
  },
  {
   "cell_type": "code",
   "execution_count": 53,
   "id": "defined-viking",
   "metadata": {},
   "outputs": [],
   "source": [
    "zomato_dataframe['Restaurant ID'] = zomato_dataframe['Restaurant ID'].astype(int)"
   ]
  },
  {
   "cell_type": "code",
   "execution_count": 54,
   "id": "impressive-reception",
   "metadata": {},
   "outputs": [
    {
     "name": "stdout",
     "output_type": "stream",
     "text": [
      "<class 'pandas.core.frame.DataFrame'>\n",
      "Int64Index: 19708 entries, 0 to 19711\n",
      "Data columns (total 20 columns):\n",
      " #   Column                Non-Null Count  Dtype  \n",
      "---  ------                --------------  -----  \n",
      " 0   Restaurant ID         19708 non-null  int64  \n",
      " 1   Restaurant Name       19708 non-null  object \n",
      " 2   Country Code          19708 non-null  int64  \n",
      " 3   City                  19708 non-null  object \n",
      " 4   Address               19708 non-null  object \n",
      " 5   Locality              19708 non-null  object \n",
      " 6   Cuisines              19708 non-null  object \n",
      " 7   Average Cost for two  19708 non-null  object \n",
      " 8   Currency              19708 non-null  object \n",
      " 9   Has Table booking     19708 non-null  bool   \n",
      " 10  Has Online delivery   19708 non-null  bool   \n",
      " 11  Is delivering now     19708 non-null  bool   \n",
      " 12  Switch to order menu  19708 non-null  bool   \n",
      " 13  Price range           19708 non-null  float64\n",
      " 14  Aggregate rating      19708 non-null  object \n",
      " 15  Rating color          19708 non-null  object \n",
      " 16  Rating text           19708 non-null  object \n",
      " 17  Votes                 19708 non-null  float64\n",
      " 18  Average cost USD      19708 non-null  float64\n",
      " 19  geometry              19708 non-null  object \n",
      "dtypes: bool(4), float64(3), int64(2), object(11)\n",
      "memory usage: 3.1+ MB\n"
     ]
    }
   ],
   "source": [
    "zomato_dataframe.info()"
   ]
  },
  {
   "cell_type": "code",
   "execution_count": 55,
   "id": "coordinated-bahamas",
   "metadata": {},
   "outputs": [],
   "source": [
    "subset = zomato_dataframe[zomato_dataframe.drop('geometry',axis=1).columns]\n",
    "tuples = [tuple(x) for x in subset.to_numpy()]"
   ]
  },
  {
   "cell_type": "code",
   "execution_count": 71,
   "id": "twenty-tradition",
   "metadata": {},
   "outputs": [],
   "source": [
    "sqlFormula = \"\"\"INSERT INTO main_table \n",
    "                    (\n",
    "                    Restaurant_ID,\n",
    "                    Restaurant_Name,\n",
    "                    Country_Code,\n",
    "                    City,\n",
    "                    Address,\n",
    "                    Locality,\n",
    "                    Cuisine,\n",
    "                    Average_Cost_for_two,\n",
    "                    Currency,\n",
    "                    Table_booking,\n",
    "                    Online_delivery,\n",
    "                    Now_delivering,\n",
    "                    Switch_menu,\n",
    "                    Price_range,\n",
    "                    Aggregate_rating,\n",
    "                    Rating_color,\n",
    "                    Rating_text,\n",
    "                    Votes,\n",
    "                    Average_cost_USD\n",
    "                    ) \n",
    "                    VALUES (\n",
    "                    %s, %s, %s, %s, %s, %s, \n",
    "                    %s, %s, %s, %s, %s, %s, \n",
    "                    %s, %s, %s, %s, %s, %s, %s\n",
    "                    );\"\"\" #%s placeholders"
   ]
  },
  {
   "cell_type": "code",
   "execution_count": 72,
   "id": "collected-bronze",
   "metadata": {},
   "outputs": [],
   "source": [
    "cur.executemany(sqlFormula, tuples)\n",
    "connection.commit()"
   ]
  },
  {
   "cell_type": "code",
   "execution_count": null,
   "id": "final-ceiling",
   "metadata": {},
   "outputs": [],
   "source": []
  }
 ],
 "metadata": {
  "kernelspec": {
   "display_name": "Python 3",
   "language": "python",
   "name": "python3"
  },
  "language_info": {
   "codemirror_mode": {
    "name": "ipython",
    "version": 3
   },
   "file_extension": ".py",
   "mimetype": "text/x-python",
   "name": "python",
   "nbconvert_exporter": "python",
   "pygments_lexer": "ipython3",
   "version": "3.8.5"
  }
 },
 "nbformat": 4,
 "nbformat_minor": 5
}
